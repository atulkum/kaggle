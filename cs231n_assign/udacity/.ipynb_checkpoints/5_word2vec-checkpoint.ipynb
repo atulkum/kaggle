{
 "cells": [
  {
   "cell_type": "markdown",
   "metadata": {
    "colab_type": "text",
    "id": "D7tqLMoKF6uq"
   },
   "source": [
    "Deep Learning\n",
    "=============\n",
    "\n",
    "Assignment 5\n",
    "------------\n",
    "\n",
    "The goal of this assignment is to train a skip-gram model over [Text8](http://mattmahoney.net/dc/textdata) data."
   ]
  },
  {
   "cell_type": "code",
   "execution_count": 1,
   "metadata": {
    "cellView": "both",
    "colab": {
     "autoexec": {
      "startup": false,
      "wait_interval": 0
     }
    },
    "colab_type": "code",
    "collapsed": true,
    "id": "0K1ZyLn04QZf"
   },
   "outputs": [],
   "source": [
    "# These are all the modules we'll be using later. Make sure you can import them\n",
    "# before proceeding further.\n",
    "import collections\n",
    "import math\n",
    "import numpy as np\n",
    "import os\n",
    "import random\n",
    "import tensorflow as tf\n",
    "import urllib\n",
    "import zipfile\n",
    "from matplotlib import pylab\n",
    "from sklearn.manifold import TSNE"
   ]
  },
  {
   "cell_type": "markdown",
   "metadata": {
    "colab_type": "text",
    "id": "aCjPJE944bkV"
   },
   "source": [
    "Download the data from the source website if necessary."
   ]
  },
  {
   "cell_type": "code",
   "execution_count": 2,
   "metadata": {
    "cellView": "both",
    "colab": {
     "autoexec": {
      "startup": false,
      "wait_interval": 0
     },
     "output_extras": [
      {
       "item_id": 1
      }
     ]
    },
    "colab_type": "code",
    "collapsed": false,
    "executionInfo": {
     "elapsed": 14640,
     "status": "ok",
     "timestamp": 1445964482948,
     "user": {
      "color": "#1FA15D",
      "displayName": "Vincent Vanhoucke",
      "isAnonymous": false,
      "isMe": true,
      "permissionId": "05076109866853157986",
      "photoUrl": "//lh6.googleusercontent.com/-cCJa7dTDcgQ/AAAAAAAAAAI/AAAAAAAACgw/r2EZ_8oYer4/s50-c-k-no/photo.jpg",
      "sessionId": "2f1ffade4c9f20de",
      "userId": "102167687554210253930"
     },
     "user_tz": 420
    },
    "id": "RJ-o3UBUFtCw",
    "outputId": "c4ec222c-80b5-4298-e635-93ca9f79c3b7"
   },
   "outputs": [
    {
     "name": "stdout",
     "output_type": "stream",
     "text": [
      "Found and verified text8.zip\n"
     ]
    }
   ],
   "source": [
    "url = 'http://mattmahoney.net/dc/'\n",
    "\n",
    "def maybe_download(filename, expected_bytes):\n",
    "  \"\"\"Download a file if not present, and make sure it's the right size.\"\"\"\n",
    "  if not os.path.exists(filename):\n",
    "    filename, _ = urllib.urlretrieve(url + filename, filename)\n",
    "  statinfo = os.stat(filename)\n",
    "  if statinfo.st_size == expected_bytes:\n",
    "    print 'Found and verified', filename\n",
    "  else:\n",
    "    print statinfo.st_size\n",
    "    raise Exception(\n",
    "      'Failed to verify ' + filename + '. Can you get to it with a browser?')\n",
    "  return filename\n",
    "\n",
    "filename = maybe_download('text8.zip', 31344016)"
   ]
  },
  {
   "cell_type": "markdown",
   "metadata": {
    "colab_type": "text",
    "id": "Zqz3XiqI4mZT"
   },
   "source": [
    "Read the data into a string."
   ]
  },
  {
   "cell_type": "code",
   "execution_count": 3,
   "metadata": {
    "cellView": "both",
    "colab": {
     "autoexec": {
      "startup": false,
      "wait_interval": 0
     },
     "output_extras": [
      {
       "item_id": 1
      }
     ]
    },
    "colab_type": "code",
    "collapsed": false,
    "executionInfo": {
     "elapsed": 28844,
     "status": "ok",
     "timestamp": 1445964497165,
     "user": {
      "color": "#1FA15D",
      "displayName": "Vincent Vanhoucke",
      "isAnonymous": false,
      "isMe": true,
      "permissionId": "05076109866853157986",
      "photoUrl": "//lh6.googleusercontent.com/-cCJa7dTDcgQ/AAAAAAAAAAI/AAAAAAAACgw/r2EZ_8oYer4/s50-c-k-no/photo.jpg",
      "sessionId": "2f1ffade4c9f20de",
      "userId": "102167687554210253930"
     },
     "user_tz": 420
    },
    "id": "Mvf09fjugFU_",
    "outputId": "e3a928b4-1645-4fe8-be17-fcf47de5716d"
   },
   "outputs": [
    {
     "name": "stdout",
     "output_type": "stream",
     "text": [
      "Data size 17005207\n"
     ]
    }
   ],
   "source": [
    "def read_data(filename):\n",
    "  f = zipfile.ZipFile(filename)\n",
    "  for name in f.namelist():\n",
    "    return f.read(name).split()\n",
    "  f.close()\n",
    "  \n",
    "words = read_data(filename)\n",
    "print 'Data size', len(words)"
   ]
  },
  {
   "cell_type": "markdown",
   "metadata": {
    "colab_type": "text",
    "id": "Zdw6i4F8glpp"
   },
   "source": [
    "Build the dictionary and replace rare words with UNK token."
   ]
  },
  {
   "cell_type": "code",
   "execution_count": 4,
   "metadata": {
    "cellView": "both",
    "colab": {
     "autoexec": {
      "startup": false,
      "wait_interval": 0
     },
     "output_extras": [
      {
       "item_id": 1
      }
     ]
    },
    "colab_type": "code",
    "collapsed": false,
    "executionInfo": {
     "elapsed": 28849,
     "status": "ok",
     "timestamp": 1445964497178,
     "user": {
      "color": "#1FA15D",
      "displayName": "Vincent Vanhoucke",
      "isAnonymous": false,
      "isMe": true,
      "permissionId": "05076109866853157986",
      "photoUrl": "//lh6.googleusercontent.com/-cCJa7dTDcgQ/AAAAAAAAAAI/AAAAAAAACgw/r2EZ_8oYer4/s50-c-k-no/photo.jpg",
      "sessionId": "2f1ffade4c9f20de",
      "userId": "102167687554210253930"
     },
     "user_tz": 420
    },
    "id": "gAL1EECXeZsD",
    "outputId": "3fb4ecd1-df67-44b6-a2dc-2291730970b2"
   },
   "outputs": [
    {
     "name": "stdout",
     "output_type": "stream",
     "text": [
      "Most common words (+UNK) [['UNK', 418391], ('the', 1061396), ('of', 593677), ('and', 416629), ('one', 411764)]\n",
      "Sample data [5239, 3084, 12, 6, 195, 2, 3137, 46, 59, 156]\n"
     ]
    }
   ],
   "source": [
    "vocabulary_size = 50000\n",
    "\n",
    "def build_dataset(words):\n",
    "  count = [['UNK', -1]]\n",
    "  count.extend(collections.Counter(words).most_common(vocabulary_size - 1))\n",
    "  dictionary = dict()\n",
    "  for word, _ in count:\n",
    "    dictionary[word] = len(dictionary)\n",
    "  data = list()\n",
    "  unk_count = 0\n",
    "  for word in words:\n",
    "    if word in dictionary:\n",
    "      index = dictionary[word]\n",
    "    else:\n",
    "      index = 0  # dictionary['UNK']\n",
    "      unk_count = unk_count + 1\n",
    "    data.append(index)\n",
    "  count[0][1] = unk_count\n",
    "  reverse_dictionary = dict(zip(dictionary.values(), dictionary.keys())) \n",
    "  return data, count, dictionary, reverse_dictionary\n",
    "\n",
    "data, count, dictionary, reverse_dictionary = build_dataset(words)\n",
    "print 'Most common words (+UNK)', count[:5]\n",
    "print 'Sample data', data[:10]\n",
    "del words  # Hint to reduce memory."
   ]
  },
  {
   "cell_type": "markdown",
   "metadata": {
    "colab_type": "text",
    "id": "lFwoyygOmWsL"
   },
   "source": [
    "Function to generate a training batch for the skip-gram model."
   ]
  },
  {
   "cell_type": "code",
   "execution_count": 6,
   "metadata": {
    "cellView": "both",
    "colab": {
     "autoexec": {
      "startup": false,
      "wait_interval": 0
     },
     "output_extras": [
      {
       "item_id": 1
      }
     ]
    },
    "colab_type": "code",
    "collapsed": false,
    "executionInfo": {
     "elapsed": 113,
     "status": "ok",
     "timestamp": 1445964901989,
     "user": {
      "color": "#1FA15D",
      "displayName": "Vincent Vanhoucke",
      "isAnonymous": false,
      "isMe": true,
      "permissionId": "05076109866853157986",
      "photoUrl": "//lh6.googleusercontent.com/-cCJa7dTDcgQ/AAAAAAAAAAI/AAAAAAAACgw/r2EZ_8oYer4/s50-c-k-no/photo.jpg",
      "sessionId": "2f1ffade4c9f20de",
      "userId": "102167687554210253930"
     },
     "user_tz": 420
    },
    "id": "w9APjA-zmfjV",
    "outputId": "67cccb02-cdaf-4e47-d489-43bcc8d57bb8"
   },
   "outputs": [
    {
     "name": "stdout",
     "output_type": "stream",
     "text": [
      "3084 -> 5239\n",
      "originated -> anarchism\n",
      "3084 -> 12\n",
      "originated -> as\n",
      "12 -> 6\n",
      "as -> a\n",
      "12 -> 3084\n",
      "as -> originated\n",
      "6 -> 195\n",
      "a -> term\n",
      "6 -> 12\n",
      "a -> as\n",
      "195 -> 2\n",
      "term -> of\n",
      "195 -> 6\n",
      "term -> a\n"
     ]
    }
   ],
   "source": [
    "data_index = 0\n",
    "\n",
    "def generate_batch(batch_size, num_skips, skip_window):\n",
    "  global data_index\n",
    "  assert batch_size % num_skips == 0\n",
    "  assert num_skips <= 2 * skip_window\n",
    "  batch = np.ndarray(shape=(batch_size), dtype=np.int32)\n",
    "  labels = np.ndarray(shape=(batch_size, 1), dtype=np.int32)\n",
    "  span = 2 * skip_window + 1 # [ skip_window target skip_window ]\n",
    "  buffer = collections.deque(maxlen=span)\n",
    "  for _ in range(span):\n",
    "    buffer.append(data[data_index])\n",
    "    data_index = (data_index + 1) % len(data)\n",
    "  for i in range(batch_size / num_skips):\n",
    "    target = skip_window  # target label at the center of the buffer\n",
    "    targets_to_avoid = [ skip_window ]\n",
    "    for j in range(num_skips):\n",
    "      while target in targets_to_avoid:\n",
    "        target = random.randint(0, span - 1)\n",
    "      targets_to_avoid.append(target)\n",
    "      batch[i * num_skips + j] = buffer[skip_window]\n",
    "      labels[i * num_skips + j, 0] = buffer[target]\n",
    "    buffer.append(data[data_index])\n",
    "    data_index = (data_index + 1) % len(data)\n",
    "  return batch, labels\n",
    "\n",
    "batch, labels = generate_batch(batch_size=8, num_skips=2, skip_window=1)\n",
    "for i in range(8):\n",
    "  print batch[i], '->', labels[i, 0]\n",
    "  print reverse_dictionary[batch[i]], '->', reverse_dictionary[labels[i, 0]]"
   ]
  },
  {
   "cell_type": "markdown",
   "metadata": {
    "colab_type": "text",
    "id": "Ofd1MbBuwiva"
   },
   "source": [
    "Train a skip-gram model."
   ]
  },
  {
   "cell_type": "code",
   "execution_count": 7,
   "metadata": {
    "cellView": "both",
    "colab": {
     "autoexec": {
      "startup": false,
      "wait_interval": 0
     }
    },
    "colab_type": "code",
    "collapsed": true,
    "id": "8pQKsV4Vwlzy"
   },
   "outputs": [],
   "source": [
    "batch_size = 128\n",
    "embedding_size = 128 # Dimension of the embedding vector.\n",
    "skip_window = 1 # How many words to consider left and right.\n",
    "num_skips = 2 # How many times to reuse an input to generate a label.\n",
    "# We pick a random validation set to sample nearest neighbors. here we limit the\n",
    "# validation samples to the words that have a low numeric ID, which by\n",
    "# construction are also the most frequent. \n",
    "valid_size = 16 # Random set of words to evaluate similarity on.\n",
    "valid_window = 100 # Only pick dev samples in the head of the distribution.\n",
    "valid_examples = np.array(random.sample(xrange(valid_window), valid_size))\n",
    "num_sampled = 64 # Number of negative examples to sample.\n",
    "\n",
    "graph = tf.Graph()\n",
    "\n",
    "with graph.as_default():\n",
    "\n",
    "  # Input data.\n",
    "  train_dataset = tf.placeholder(tf.int32, shape=[batch_size])\n",
    "  train_labels = tf.placeholder(tf.int32, shape=[batch_size, 1])\n",
    "  valid_dataset = tf.constant(valid_examples, dtype=tf.int32)\n",
    "  \n",
    "  # Variables.\n",
    "  embeddings = tf.Variable(\n",
    "    tf.random_uniform([vocabulary_size, embedding_size], -1.0, 1.0))\n",
    "  softmax_weights = tf.Variable(\n",
    "    tf.truncated_normal([vocabulary_size, embedding_size],\n",
    "                         stddev=1.0 / math.sqrt(embedding_size)))\n",
    "  softmax_biases = tf.Variable(tf.zeros([vocabulary_size]))\n",
    "  \n",
    "  # Model.\n",
    "  # Look up embeddings for inputs.\n",
    "  embed = tf.nn.embedding_lookup(embeddings, train_dataset)\n",
    "  # Compute the softmax loss, using a sample of the negative labels each time.\n",
    "  loss = tf.reduce_mean(\n",
    "    tf.nn.sampled_softmax_loss(softmax_weights, softmax_biases, embed,\n",
    "                               train_labels, num_sampled, vocabulary_size))\n",
    "\n",
    "  # Optimizer.\n",
    "  optimizer = tf.train.AdagradOptimizer(1.0).minimize(loss)\n",
    "  \n",
    "  # Compute the similarity between minibatch examples and all embeddings.\n",
    "  # We use the cosine distance:\n",
    "  norm = tf.sqrt(tf.reduce_sum(tf.square(embeddings), 1, keep_dims=True))\n",
    "  normalized_embeddings = embeddings / norm\n",
    "  valid_embeddings = tf.nn.embedding_lookup(\n",
    "    normalized_embeddings, valid_dataset)\n",
    "  similarity = tf.matmul(valid_embeddings, tf.transpose(normalized_embeddings))"
   ]
  },
  {
   "cell_type": "code",
   "execution_count": 8,
   "metadata": {
    "cellView": "both",
    "colab": {
     "autoexec": {
      "startup": false,
      "wait_interval": 0
     },
     "output_extras": [
      {
       "item_id": 23
      },
      {
       "item_id": 48
      },
      {
       "item_id": 61
      }
     ]
    },
    "colab_type": "code",
    "collapsed": false,
    "executionInfo": {
     "elapsed": 436189,
     "status": "ok",
     "timestamp": 1445965429787,
     "user": {
      "color": "#1FA15D",
      "displayName": "Vincent Vanhoucke",
      "isAnonymous": false,
      "isMe": true,
      "permissionId": "05076109866853157986",
      "photoUrl": "//lh6.googleusercontent.com/-cCJa7dTDcgQ/AAAAAAAAAAI/AAAAAAAACgw/r2EZ_8oYer4/s50-c-k-no/photo.jpg",
      "sessionId": "2f1ffade4c9f20de",
      "userId": "102167687554210253930"
     },
     "user_tz": 420
    },
    "id": "1bQFGceBxrWW",
    "outputId": "5ebd6d9a-33c6-4bcd-bf6d-252b0b6055e4"
   },
   "outputs": [
    {
     "name": "stdout",
     "output_type": "stream",
     "text": [
      "Initialized\n",
      "Average loss at step 0 : 7.83897829056\n",
      "Nearest to on: jumblatt, fugitive, anonymously, messagepad, chaldea, telegram, webcam, wahhabism,\n",
      "Nearest to war: boopsie, undisturbed, usps, cordon, nikki, fisa, kwame, broken,\n",
      "Nearest to b: masovia, abitibi, outing, enumerable, metaphorically, lyman, tesla, fatima,\n",
      "Nearest to may: hostages, weaken, aided, shockley, vicki, proliferated, blossomed, museo,\n",
      "Nearest to up: matsushita, locked, knack, bhangra, ath, agathon, courtiers, laren,\n",
      "Nearest to world: starters, ferocity, convulsions, boggs, terrain, cursed, unheated, giordano,\n",
      "Nearest to that: franck, superposition, intercepting, recovering, potentially, shostakovich, heights, suny,\n",
      "Nearest to two: sarti, pegs, ne, carnage, cement, heroic, berners, druidism,\n",
      "Nearest to will: clo, boost, aortic, suvs, chicago, glaciation, hood, sewers,\n",
      "Nearest to during: constitute, mcmaster, anz, harden, massoud, hco, sunglasses, livers,\n",
      "Nearest to into: wilhelm, licensed, tim, podcast, rader, aboard, unprofessional, declaration,\n",
      "Nearest to no: philological, sunnah, lorry, markup, ries, rationalization, modena, duchess,\n",
      "Nearest to many: subway, cephalon, mss, whimsical, upstate, inhibitors, beijing, amt,\n",
      "Nearest to his: prevention, masoch, punjab, incontinence, csm, sedan, yun, lbs,\n",
      "Nearest to th: compounds, minarets, ionization, caesura, hor, dominion, repurchase, skill,\n",
      "Nearest to nine: moor, feces, leftrightarrow, interrupting, keeshonden, care, bostonians, attend,\n",
      "Average loss at step 2000 : 4.36096487188\n",
      "Average loss at step 4000 : 3.86538029358\n",
      "Average loss at step 6000 : 3.78524083626\n",
      "Average loss at step 8000 : 3.68910601547\n",
      "Average loss at step 10000 : 3.60793329376\n",
      "Nearest to on: in, with, at, fontane, through, between, from, becoming,\n",
      "Nearest to war: hitherto, instructional, pbk, archery, usps, respectful, nikki, suarez,\n",
      "Nearest to b: d, abitibi, masovia, clytemnestra, specificity, colleagues, infinity, knotted,\n",
      "Nearest to may: can, will, cleansed, vicki, tonight, but, onerous, deified,\n",
      "Nearest to up: knack, sportspeople, ath, matsushita, photonic, courtiers, honorary, gestalt,\n",
      "Nearest to world: starters, implicit, ferocity, gbit, fic, disgraced, placidia, vapour,\n",
      "Nearest to that: which, disembodied, it, homogeneity, coldcut, bs, aimed, logitech,\n",
      "Nearest to two: four, three, five, eight, six, one, seven, zero,\n",
      "Nearest to will: may, must, can, boost, regulate, immoral, cruising, hood,\n",
      "Nearest to during: mcmaster, of, redefinition, constitute, last, breeds, before, second,\n",
      "Nearest to into: composes, dearborn, medications, drowned, plots, podcast, storks, declaration,\n",
      "Nearest to no: it, slows, russ, optionally, vez, also, scandals, norte,\n",
      "Nearest to many: some, lito, protectionist, the, its, secaucus, poke, such,\n",
      "Nearest to his: their, the, its, her, s, dagny, transitions, eunuch,\n",
      "Nearest to th: seven, compounds, minarets, four, sentient, ionization, malaysian, saimei,\n",
      "Nearest to nine: eight, six, seven, zero, five, three, four, two,\n",
      "Average loss at step 12000 : 3.60643883181\n",
      "Average loss at step 14000 : 3.56840407044\n",
      "Average loss at step 16000 : 3.40422286724\n",
      "Average loss at step 18000 : 3.46198796356\n",
      "Average loss at step 20000 : 3.54020223778\n",
      "Nearest to on: in, at, upon, through, torsional, gabrielle, gaston, fontane,\n",
      "Nearest to war: instructional, hitherto, archery, mulligan, suarez, respectful, honduras, accepts,\n",
      "Nearest to b: d, thrash, thackeray, legislator, enthroned, french, lied, prepositional,\n",
      "Nearest to may: can, will, would, could, might, should, must, cleansed,\n",
      "Nearest to up: knack, sportspeople, honorary, traveller, plots, ath, westphalia, them,\n",
      "Nearest to world: implicit, history, gbit, ferocity, people, electronegativity, starters, intimidate,\n",
      "Nearest to that: which, it, coldcut, because, disembodied, but, freitas, original,\n",
      "Nearest to two: three, four, six, five, seven, eight, zero, one,\n",
      "Nearest to will: may, can, would, must, could, to, should, sewers,\n",
      "Nearest to during: in, under, at, mcmaster, when, before, last, after,\n",
      "Nearest to into: from, by, composes, storks, throughout, drowned, at, slammed,\n",
      "Nearest to no: there, slows, elgar, vez, symbolics, associated, characterized, else,\n",
      "Nearest to many: some, several, these, other, all, lito, such, most,\n",
      "Nearest to his: their, her, its, the, transitions, metcalfe, this, platform,\n",
      "Nearest to th: compounds, minarets, rd, yassin, sentient, trieste, seven, county,\n",
      "Nearest to nine: eight, six, seven, four, five, three, zero, two,\n",
      "Average loss at step 22000 : 3.50310749072\n",
      "Average loss at step 24000 : 3.48984895229\n",
      "Average loss at step 26000 : 3.48208060187\n",
      "Average loss at step 28000 : 3.48017018956\n",
      "Average loss at step 30000 : 3.49742862242\n",
      "Nearest to on: upon, in, through, about, at, wahhabism, for, from,\n",
      "Nearest to war: hitherto, sedan, respectful, instructional, suarez, pbk, troupe, ruble,\n",
      "Nearest to b: d, feeders, legislator, eukaryotic, enthroned, goguryeo, wood, thrash,\n",
      "Nearest to may: can, would, will, could, might, must, should, cannot,\n",
      "Nearest to up: them, down, honorary, ath, traveller, knack, plots, margin,\n",
      "Nearest to world: implicit, largest, galaxies, gbit, lsd, history, electronegativity, ferocity,\n",
      "Nearest to that: which, this, zech, but, because, however, aimed, what,\n",
      "Nearest to two: four, three, one, five, six, eight, seven, zero,\n",
      "Nearest to will: would, can, must, may, could, should, to, sewers,\n",
      "Nearest to during: in, at, after, before, when, under, last, until,\n",
      "Nearest to into: from, through, throughout, composes, storks, in, under, over,\n",
      "Nearest to no: any, a, symbolics, there, falsehoods, generally, else, elgar,\n",
      "Nearest to many: some, several, these, all, other, most, narrators, ucs,\n",
      "Nearest to his: their, her, its, the, s, dagny, downhill, my,\n",
      "Nearest to th: six, seven, rd, eight, five, two, zero, four,\n",
      "Nearest to nine: eight, seven, six, four, five, three, zero, two,\n",
      "Average loss at step 32000 : 3.49891930687\n",
      "Average loss at step 34000 : 3.49277125162\n",
      "Average loss at step 36000 : 3.4560652703\n",
      "Average loss at step 38000 : 3.29902048454\n",
      "Average loss at step 40000 : 3.42797749037\n",
      "Nearest to on: upon, at, during, through, nafs, regarding, moves, doughnut,\n",
      "Nearest to war: respectful, instructional, suarez, hitherto, tilted, bains, statics, sedan,\n",
      "Nearest to b: d, feeders, c, n, lollardy, gskola, UNK, k,\n",
      "Nearest to may: can, would, will, could, might, must, should, cannot,\n",
      "Nearest to up: them, down, out, ath, him, honorary, westphalia, knack,\n",
      "Nearest to world: placidia, largest, lsd, disgraced, galaxies, plectrum, merriam, clears,\n",
      "Nearest to that: which, this, however, coldcut, what, because, grade, it,\n",
      "Nearest to two: three, four, six, five, seven, one, eight, zero,\n",
      "Nearest to will: would, can, could, must, may, should, might, to,\n",
      "Nearest to during: before, after, until, at, on, when, in, against,\n",
      "Nearest to into: from, through, over, throughout, storks, out, slammed, on,\n",
      "Nearest to no: any, another, punt, a, algebra, often, else, venturing,\n",
      "Nearest to many: some, several, these, various, other, all, most, bidatsu,\n",
      "Nearest to his: their, her, its, the, my, lieder, leeuwenhoek, our,\n",
      "Nearest to th: rd, seven, ak, trieste, eug, zero, nd, kg,\n",
      "Nearest to nine: eight, seven, six, four, five, zero, three, one,\n",
      "Average loss at step 42000 : 3.43894082236\n",
      "Average loss at step 44000 : 3.45040478641\n",
      "Average loss at step 46000 : 3.45279332316\n",
      "Average loss at step 48000 : 3.35312414107\n",
      "Average loss at step 50000 : 3.38181432235\n",
      "Nearest to on: upon, through, in, about, at, hildegard, nafs, regarding,\n",
      "Nearest to war: respectful, hitherto, bains, statics, suarez, tilted, midyear, pbk,\n",
      "Nearest to b: d, r, n, c, salvator, feeders, guerra, ary,\n",
      "Nearest to may: can, would, could, will, might, must, should, cannot,\n",
      "Nearest to up: out, them, down, off, him, forth, gto, westphalia,\n",
      "Nearest to world: largest, placidia, galaxies, lsd, plectrum, merriam, ferocity, game,\n",
      "Nearest to that: which, however, what, coldcut, aimed, grade, conn, but,\n",
      "Nearest to two: three, six, four, five, seven, one, eight, zero,\n",
      "Nearest to will: would, can, could, must, may, should, might, cannot,\n",
      "Nearest to during: after, at, when, in, before, under, until, within,\n",
      "Nearest to into: through, from, under, slammed, on, throughout, over, educating,\n",
      "Nearest to no: any, another, zimbabwean, venturing, an, zbigniew, elgar, characterized,\n",
      "Nearest to many: some, several, these, various, all, most, other, both,\n",
      "Nearest to his: their, her, its, our, my, the, him, downhill,\n",
      "Nearest to th: six, four, nd, rd, ak, eight, bc, five,\n",
      "Nearest to nine: eight, seven, six, four, three, five, zero, two,\n",
      "Average loss at step 52000 : 3.43312753677\n",
      "Average loss at step 54000 : 3.42250612694\n",
      "Average loss at step 56000 : 3.44063730896\n",
      "Average loss at step 58000 : 3.39417242742\n",
      "Average loss at step 60000 : 3.39318355364\n",
      "Nearest to on: upon, through, in, hildegard, about, denotes, regarding, walla,\n",
      "Nearest to war: respectful, acetaminophen, bains, tilted, twins, midyear, pbk, wars,\n",
      "Nearest to b: d, c, n, r, salvator, f, miner, k,\n",
      "Nearest to may: can, would, will, could, might, must, should, cannot,\n",
      "Nearest to up: out, them, down, off, him, forth, together, westphalia,\n",
      "Nearest to world: largest, lsd, galaxies, history, merriam, ascent, solemnly, microfilm,\n",
      "Nearest to that: which, what, however, this, there, it, grade, rulemaking,\n",
      "Nearest to two: four, three, six, five, one, seven, eight, zero,\n",
      "Nearest to will: would, must, could, can, may, should, might, cannot,\n",
      "Nearest to during: after, before, in, when, since, under, until, although,\n",
      "Nearest to into: through, from, over, throughout, under, in, slammed, strikeouts,\n",
      "Nearest to no: any, little, zbigniew, characterized, venturing, a, prom, leakage,\n",
      "Nearest to many: some, several, various, these, all, other, such, most,\n",
      "Nearest to his: her, their, its, my, our, the, whose, conspiracies,\n",
      "Nearest to th: six, five, four, rd, nd, st, seven, bc,\n",
      "Nearest to nine: eight, six, seven, five, four, three, zero, one,\n",
      "Average loss at step 62000 : 3.24232666564\n",
      "Average loss at step 64000 : 3.25711644202\n",
      "Average loss at step 66000 : 3.40487404132\n",
      "Average loss at step 68000 : 3.39514910686\n",
      "Average loss at step 70000 : 3.35470613331\n",
      "Nearest to on: upon, through, in, within, regarding, nafs, hildegard, denotes,\n",
      "Nearest to war: respectful, tilted, midyear, wars, cooperative, twins, bains, acetaminophen,\n",
      "Nearest to b: d, r, c, n, k, miner, p, l,\n",
      "Nearest to may: can, would, will, could, must, might, should, cannot,\n",
      "Nearest to up: them, down, out, off, him, forth, diophantus, westphalia,\n",
      "Nearest to world: largest, lsd, galaxies, merriam, ascent, clears, placidia, servlet,\n",
      "Nearest to that: which, what, however, typically, but, this, often, where,\n",
      "Nearest to two: three, four, six, five, one, seven, eight, zero,\n",
      "Nearest to will: would, must, could, may, can, should, might, cannot,\n",
      "Nearest to during: after, before, until, when, in, within, under, following,\n",
      "Nearest to into: through, from, over, within, throughout, between, in, on,\n",
      "Nearest to no: any, little, leakage, wr, significant, prom, mapped, mistook,\n",
      "Nearest to many: some, several, all, various, these, most, other, such,\n",
      "Nearest to his: her, their, its, our, my, the, him, your,\n",
      "Nearest to th: bc, rd, seven, st, nd, trieste, six, ninth,\n",
      "Nearest to nine: eight, seven, six, five, four, three, zero, one,\n",
      "Average loss at step 72000 : 3.3748169108\n",
      "Average loss at step 74000 : 3.34945642136\n",
      "Average loss at step 76000 : 3.31924970531\n",
      "Average loss at step 78000 : 3.3510368281\n",
      "Average loss at step 80000 : 3.37808358103\n",
      "Nearest to on: upon, through, in, hildegard, at, within, cq, news,\n",
      "Nearest to war: wars, midyear, cooperative, tilted, commuting, respectful, bains, sedan,\n",
      "Nearest to b: d, c, r, k, outlets, n, miner, ec,\n",
      "Nearest to may: can, would, will, could, must, might, should, cannot,\n",
      "Nearest to up: down, out, them, off, him, scopes, forth, together,\n",
      "Nearest to world: galaxies, merriam, largest, ufa, vapour, lsd, cumings, nikolaevich,\n",
      "Nearest to that: which, however, where, what, but, this, zech, grade,\n",
      "Nearest to two: three, four, five, six, seven, one, eight, realpolitik,\n",
      "Nearest to will: would, could, must, can, may, should, might, cannot,\n",
      "Nearest to during: after, before, in, when, until, despite, following, within,\n",
      "Nearest to into: through, from, within, throughout, over, between, mordechai, back,\n",
      "Nearest to no: little, any, leakage, jolie, mapped, zbigniew, venturing, mistook,\n",
      "Nearest to many: some, several, various, all, these, those, most, such,\n",
      "Nearest to his: her, their, its, my, our, your, the, chen,\n",
      "Nearest to th: three, bc, rd, st, nd, five, four, seven,\n",
      "Nearest to nine: eight, seven, six, five, four, three, zero, one,\n",
      "Average loss at step 82000 : 3.41089997172\n",
      "Average loss at step 84000 : 3.40988607895\n",
      "Average loss at step 86000 : 3.38912144373\n",
      "Average loss at step 88000 : 3.34998567271\n",
      "Average loss at step 90000 : 3.36871695751\n",
      "Nearest to on: upon, through, hildegard, regarding, in, at, fontane, under,\n",
      "Nearest to war: wars, midyear, bains, during, commuting, cooperative, graduating, sedan,\n",
      "Nearest to b: d, c, r, k, miner, dunwich, outlets, n,\n",
      "Nearest to may: can, could, must, would, might, will, should, cannot,\n",
      "Nearest to up: out, off, down, them, him, together, westphalia, acetate,\n",
      "Nearest to world: galaxies, merriam, largest, misskelley, servlet, vapour, cumings, bible,\n",
      "Nearest to that: which, however, what, zech, initiating, citrate, typically, corporatist,\n",
      "Nearest to two: three, four, five, one, six, seven, eight, zero,\n",
      "Nearest to will: would, could, can, must, may, should, might, cannot,\n",
      "Nearest to during: after, in, before, until, within, despite, when, through,\n",
      "Nearest to into: through, from, over, around, mordechai, within, between, throughout,\n",
      "Nearest to no: any, little, another, always, mapped, only, zbigniew, never,\n",
      "Nearest to many: some, several, various, these, all, most, those, certain,\n",
      "Nearest to his: her, their, its, our, my, your, whose, the,\n",
      "Nearest to th: seven, bc, st, rd, nd, nine, four, eight,\n",
      "Nearest to nine: eight, seven, six, five, four, three, zero, one,\n",
      "Average loss at step 92000 : 3.39545286298\n",
      "Average loss at step 94000 : 3.25256183705\n",
      "Average loss at step 96000 : 3.35524140519\n",
      "Average loss at step 98000 : 3.24127446346\n",
      "Average loss at step 100000 : 3.35223383421\n",
      "Nearest to on: upon, through, regarding, in, hildegard, at, within, about,\n",
      "Nearest to war: wars, midyear, respectful, cooperative, bains, pbk, honduras, sedan,\n",
      "Nearest to b: d, c, miner, mato, dunwich, inequalities, trolleys, boer,\n",
      "Nearest to may: can, could, must, would, might, will, should, cannot,\n",
      "Nearest to up: out, off, down, them, him, together, westphalia, acetate,\n",
      "Nearest to world: galaxies, merriam, vapour, largest, cumings, ascent, season, times,\n",
      "Nearest to that: which, however, what, but, zech, deporting, where, who,\n",
      "Nearest to two: four, three, five, seven, six, eight, one, zero,\n",
      "Nearest to will: would, must, can, could, may, should, might, cannot,\n",
      "Nearest to during: after, before, in, despite, within, until, through, at,\n",
      "Nearest to into: through, within, from, around, over, in, between, on,\n",
      "Nearest to no: any, little, zbigniew, another, leakage, mapped, only, reactivity,\n",
      "Nearest to many: several, some, these, various, all, those, few, certain,\n",
      "Nearest to his: her, their, my, its, your, our, whose, the,\n",
      "Nearest to th: rd, nd, bc, st, one, seven, six, four,\n",
      "Nearest to nine: eight, seven, six, four, five, three, zero, pmid,\n"
     ]
    }
   ],
   "source": [
    "num_steps = 100001\n",
    "\n",
    "with tf.Session(graph=graph) as session:\n",
    "  tf.initialize_all_variables().run()\n",
    "  print \"Initialized\"\n",
    "  average_loss = 0\n",
    "  for step in xrange(num_steps):\n",
    "    batch_data, batch_labels = generate_batch(\n",
    "      batch_size, num_skips, skip_window)\n",
    "    feed_dict = {train_dataset : batch_data, train_labels : batch_labels}\n",
    "    _, l = session.run([optimizer, loss], feed_dict=feed_dict)\n",
    "    average_loss += l\n",
    "    if step % 2000 == 0:\n",
    "      if step > 0:\n",
    "        average_loss = average_loss / 2000\n",
    "      # The average loss is an estimate of the loss over the last 2000 batches.\n",
    "      print \"Average loss at step\", step, \":\", average_loss\n",
    "      average_loss = 0\n",
    "    # note that this is expensive (~20% slowdown if computed every 500 steps)\n",
    "    if step % 10000 == 0:\n",
    "      sim = similarity.eval()\n",
    "      for i in xrange(valid_size):\n",
    "        valid_word = reverse_dictionary[valid_examples[i]]\n",
    "        top_k = 8 # number of nearest neighbors\n",
    "        nearest = (-sim[i, :]).argsort()[1:top_k+1]\n",
    "        log = \"Nearest to %s:\" % valid_word\n",
    "        for k in xrange(top_k):\n",
    "          close_word = reverse_dictionary[nearest[k]]\n",
    "          log = \"%s %s,\" % (log, close_word)\n",
    "        print log\n",
    "  final_embeddings = normalized_embeddings.eval()"
   ]
  },
  {
   "cell_type": "code",
   "execution_count": 9,
   "metadata": {
    "cellView": "both",
    "colab": {
     "autoexec": {
      "startup": false,
      "wait_interval": 0
     }
    },
    "colab_type": "code",
    "collapsed": true,
    "id": "jjJXYA_XzV79"
   },
   "outputs": [],
   "source": [
    "num_points = 400\n",
    "\n",
    "tsne = TSNE(perplexity=30, n_components=2, init='pca', n_iter=5000)\n",
    "two_d_embeddings = tsne.fit_transform(final_embeddings[1:num_points+1, :])"
   ]
  },
  {
   "cell_type": "code",
   "execution_count": 10,
   "metadata": {
    "cellView": "both",
    "colab": {
     "autoexec": {
      "startup": false,
      "wait_interval": 0
     },
     "output_extras": [
      {
       "item_id": 1
      }
     ]
    },
    "colab_type": "code",
    "collapsed": false,
    "executionInfo": {
     "elapsed": 4763,
     "status": "ok",
     "timestamp": 1445965465525,
     "user": {
      "color": "#1FA15D",
      "displayName": "Vincent Vanhoucke",
      "isAnonymous": false,
      "isMe": true,
      "permissionId": "05076109866853157986",
      "photoUrl": "//lh6.googleusercontent.com/-cCJa7dTDcgQ/AAAAAAAAAAI/AAAAAAAACgw/r2EZ_8oYer4/s50-c-k-no/photo.jpg",
      "sessionId": "2f1ffade4c9f20de",
      "userId": "102167687554210253930"
     },
     "user_tz": 420
    },
    "id": "o_e0D_UezcDe",
    "outputId": "df22e4a5-e8ec-4e5e-d384-c6cf37c68c34"
   },
   "outputs": [
    {
     "name": "stderr",
     "output_type": "stream",
     "text": [
      "/Users/atulkumar/anaconda/lib/python2.7/site-packages/matplotlib/collections.py:590: FutureWarning: elementwise comparison failed; returning scalar instead, but in the future will perform elementwise comparison\n",
      "  if self._edgecolors == str('face'):\n"
     ]
    }
   ],
   "source": [
    "def plot(embeddings, labels):\n",
    "  assert embeddings.shape[0] >= len(labels), 'More labels than embeddings'\n",
    "  pylab.figure(figsize=(15,15))  # in inches\n",
    "  for i, label in enumerate(labels):\n",
    "    x, y = embeddings[i,:]\n",
    "    pylab.scatter(x, y)\n",
    "    pylab.annotate(label, xy=(x, y), xytext=(5, 2), textcoords='offset points',\n",
    "                   ha='right', va='bottom')\n",
    "  pylab.show()\n",
    "\n",
    "words = [reverse_dictionary[i] for i in xrange(1, num_points+1)]\n",
    "plot(two_d_embeddings, words)"
   ]
  },
  {
   "cell_type": "markdown",
   "metadata": {
    "colab_type": "text",
    "id": "QB5EFrBnpNnc"
   },
   "source": [
    "---\n",
    "\n",
    "Problem\n",
    "-------\n",
    "\n",
    "An alternative to Word2Vec is called [CBOW](http://arxiv.org/abs/1301.3781) (Continuous Bag of Words). In the CBOW model, instead of predicting a context word from a word vector, you predict a word from the sum of all the word vectors in its context. Implement and evaluate a CBOW model trained on the text8 dataset.\n",
    "\n",
    "---"
   ]
  }
 ],
 "metadata": {
  "colab": {
   "default_view": {},
   "name": "5_word2vec.ipynb",
   "version": "0.3.2",
   "views": {}
  },
  "kernelspec": {
   "display_name": "Python 2",
   "language": "python",
   "name": "python2"
  },
  "language_info": {
   "codemirror_mode": {
    "name": "ipython",
    "version": 2
   },
   "file_extension": ".py",
   "mimetype": "text/x-python",
   "name": "python",
   "nbconvert_exporter": "python",
   "pygments_lexer": "ipython2",
   "version": "2.7.11"
  }
 },
 "nbformat": 4,
 "nbformat_minor": 0
}
