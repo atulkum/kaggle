{
 "cells": [
  {
   "cell_type": "markdown",
   "metadata": {},
   "source": [
    "# Softmax exercise\n",
    "\n",
    "*Complete and hand in this completed worksheet (including its outputs and any supporting code outside of the worksheet) with your assignment submission. For more details see the [assignments page](http://vision.stanford.edu/teaching/cs231n/assignments.html) on the course website.*\n",
    "\n",
    "This exercise is analogous to the SVM exercise. You will:\n",
    "\n",
    "- implement a fully-vectorized **loss function** for the Softmax classifier\n",
    "- implement the fully-vectorized expression for its **analytic gradient**\n",
    "- **check your implementation** with numerical gradient\n",
    "- use a validation set to **tune the learning rate and regularization** strength\n",
    "- **optimize** the loss function with **SGD**\n",
    "- **visualize** the final learned weights\n"
   ]
  },
  {
   "cell_type": "code",
   "execution_count": 1,
   "metadata": {
    "collapsed": false
   },
   "outputs": [],
   "source": [
    "import random\n",
    "import numpy as np\n",
    "from cs231n.data_utils import load_CIFAR10\n",
    "import matplotlib.pyplot as plt\n",
    "%matplotlib inline\n",
    "plt.rcParams['figure.figsize'] = (10.0, 8.0) # set default size of plots\n",
    "plt.rcParams['image.interpolation'] = 'nearest'\n",
    "plt.rcParams['image.cmap'] = 'gray'\n",
    "\n",
    "# for auto-reloading extenrnal modules\n",
    "# see http://stackoverflow.com/questions/1907993/autoreload-of-modules-in-ipython\n",
    "%load_ext autoreload\n",
    "%autoreload 2"
   ]
  },
  {
   "cell_type": "code",
   "execution_count": 52,
   "metadata": {
    "collapsed": false
   },
   "outputs": [
    {
     "name": "stdout",
     "output_type": "stream",
     "text": [
      "Train data shape:  (49000, 3073)\n",
      "Train labels shape:  (49000,)\n",
      "Validation data shape:  (1000, 3073)\n",
      "Validation labels shape:  (1000,)\n",
      "Test data shape:  (1000, 3073)\n",
      "Test labels shape:  (1000,)\n",
      "dev data shape:  (500, 3073)\n",
      "dev labels shape:  (500,)\n"
     ]
    }
   ],
   "source": [
    "def get_CIFAR10_data(num_training=49000, num_validation=1000, num_test=1000, num_dev=500):\n",
    "  \"\"\"\n",
    "  Load the CIFAR-10 dataset from disk and perform preprocessing to prepare\n",
    "  it for the linear classifier. These are the same steps as we used for the\n",
    "  SVM, but condensed to a single function.  \n",
    "  \"\"\"\n",
    "  # Load the raw CIFAR-10 data\n",
    "  cifar10_dir = 'cs231n/datasets/cifar-10-batches-py'\n",
    "  X_train, y_train, X_test, y_test = load_CIFAR10(cifar10_dir)\n",
    "  \n",
    "  # subsample the data\n",
    "  mask = range(num_training, num_training + num_validation)\n",
    "  X_val = X_train[mask]\n",
    "  y_val = y_train[mask]\n",
    "  mask = range(num_training)\n",
    "  X_train = X_train[mask]\n",
    "  y_train = y_train[mask]\n",
    "  mask = range(num_test)\n",
    "  X_test = X_test[mask]\n",
    "  y_test = y_test[mask]\n",
    "  mask = np.random.choice(num_training, num_dev, replace=False)\n",
    "  X_dev = X_train[mask]\n",
    "  y_dev = y_train[mask]\n",
    "  \n",
    "  # Preprocessing: reshape the image data into rows\n",
    "  X_train = np.reshape(X_train, (X_train.shape[0], -1))\n",
    "  X_val = np.reshape(X_val, (X_val.shape[0], -1))\n",
    "  X_test = np.reshape(X_test, (X_test.shape[0], -1))\n",
    "  X_dev = np.reshape(X_dev, (X_dev.shape[0], -1))\n",
    "  \n",
    "  # Normalize the data: subtract the mean image\n",
    "  mean_image = np.mean(X_train, axis = 0)\n",
    "  X_train -= mean_image\n",
    "  X_val -= mean_image\n",
    "  X_test -= mean_image\n",
    "  X_dev -= mean_image\n",
    "  \n",
    "  # add bias dimension and transform into columns\n",
    "  X_train = np.hstack([X_train, np.ones((X_train.shape[0], 1))])\n",
    "  X_val = np.hstack([X_val, np.ones((X_val.shape[0], 1))])\n",
    "  X_test = np.hstack([X_test, np.ones((X_test.shape[0], 1))])\n",
    "  X_dev = np.hstack([X_dev, np.ones((X_dev.shape[0], 1))])\n",
    "  \n",
    "  return X_train, y_train, X_val, y_val, X_test, y_test, X_dev, y_dev\n",
    "\n",
    "\n",
    "# Invoke the above function to get our data.\n",
    "X_train, y_train, X_val, y_val, X_test, y_test, X_dev, y_dev = get_CIFAR10_data()\n",
    "print 'Train data shape: ', X_train.shape\n",
    "print 'Train labels shape: ', y_train.shape\n",
    "print 'Validation data shape: ', X_val.shape\n",
    "print 'Validation labels shape: ', y_val.shape\n",
    "print 'Test data shape: ', X_test.shape\n",
    "print 'Test labels shape: ', y_test.shape\n",
    "print 'dev data shape: ', X_dev.shape\n",
    "print 'dev labels shape: ', y_dev.shape"
   ]
  },
  {
   "cell_type": "markdown",
   "metadata": {},
   "source": [
    "## Softmax Classifier\n",
    "\n",
    "Your code for this section will all be written inside **cs231n/classifiers/softmax.py**. \n"
   ]
  },
  {
   "cell_type": "code",
   "execution_count": 9,
   "metadata": {
    "collapsed": false
   },
   "outputs": [
    {
     "name": "stdout",
     "output_type": "stream",
     "text": [
      "(500, 10) (500, 1)\n",
      "loss: 2.344051\n",
      "sanity check: 2.302585\n"
     ]
    }
   ],
   "source": [
    "# First implement the naive softmax loss function with nested loops.\n",
    "# Open the file cs231n/classifiers/softmax.py and implement the\n",
    "# softmax_loss_naive function.\n",
    "\n",
    "from cs231n.classifiers.softmax import softmax_loss_naive\n",
    "import time\n",
    "\n",
    "# Generate a random softmax weight matrix and use it to compute the loss.\n",
    "W = np.random.randn(3073, 10) * 0.0001\n",
    "loss, grad = softmax_loss_naive(W, X_dev, y_dev, 0.0)\n",
    "\n",
    "# As a rough sanity check, our loss should be something close to -log(0.1).\n",
    "print 'loss: %f' % loss\n",
    "print 'sanity check: %f' % (-np.log(0.1))"
   ]
  },
  {
   "cell_type": "markdown",
   "metadata": {},
   "source": [
    "## Inline Question 1:\n",
    "Why do we expect our loss to be close to -log(0.1)? Explain briefly.**\n",
    "\n",
    "**Your answer:** *Fill this in*\n"
   ]
  },
  {
   "cell_type": "code",
   "execution_count": 49,
   "metadata": {
    "collapsed": false
   },
   "outputs": [
    {
     "name": "stdout",
     "output_type": "stream",
     "text": [
      "numerical: -0.437743 analytic: -0.437743, relative error: 1.087773e-07\n",
      "numerical: 0.285745 analytic: 0.285745, relative error: 8.111174e-08\n",
      "numerical: -2.722192 analytic: -2.722192, relative error: 4.293645e-09\n",
      "numerical: 0.422496 analytic: 0.422496, relative error: 9.471810e-08\n",
      "numerical: -0.612765 analytic: -0.612765, relative error: 1.288890e-07\n",
      "numerical: 0.838105 analytic: 0.838105, relative error: 4.957441e-08\n",
      "numerical: 0.284850 analytic: 0.284850, relative error: 4.745319e-08\n",
      "numerical: 2.005693 analytic: 2.005693, relative error: 2.590456e-08\n",
      "numerical: 4.394719 analytic: 4.394719, relative error: 8.991463e-09\n",
      "numerical: 0.865937 analytic: 0.865937, relative error: 1.094137e-07\n",
      "numerical: 0.437472 analytic: 0.677911, relative error: 2.155662e-01\n",
      "numerical: -0.818781 analytic: -0.885758, relative error: 3.929327e-02\n",
      "numerical: -1.608310 analytic: -1.143316, relative error: 1.689890e-01\n",
      "numerical: -1.894090 analytic: -1.519845, relative error: 1.096225e-01\n",
      "numerical: 2.083004 analytic: 1.397803, relative error: 1.968511e-01\n",
      "numerical: 0.849232 analytic: 0.366523, relative error: 3.970450e-01\n",
      "numerical: -2.182320 analytic: -1.922732, relative error: 6.323643e-02\n",
      "numerical: -1.415998 analytic: -1.506501, relative error: 3.096785e-02\n",
      "numerical: -1.486756 analytic: -1.164039, relative error: 1.217436e-01\n",
      "numerical: -1.742175 analytic: -1.342026, relative error: 1.297417e-01\n"
     ]
    }
   ],
   "source": [
    "# Complete the implementation of softmax_loss_naive and implement a (naive)\n",
    "# version of the gradient that uses nested loops.\n",
    "loss, grad = softmax_loss_naive(W, X_dev, y_dev, 0.0)\n",
    "\n",
    "# As we did for the SVM, use numeric gradient checking as a debugging tool.\n",
    "# The numeric gradient should be close to the analytic gradient.\n",
    "from cs231n.gradient_check import grad_check_sparse\n",
    "f = lambda w: softmax_loss_naive(w, X_dev, y_dev, 0.0)[0]\n",
    "grad_numerical = grad_check_sparse(f, W, grad, 10)\n",
    "\n",
    "# similar to SVM case, do another gradient check with regularization\n",
    "loss, grad = softmax_loss_naive(W, X_dev, y_dev, 1e2)\n",
    "f = lambda w: softmax_loss_naive(w, X_dev, y_dev, 1e2)[0]\n",
    "grad_numerical = grad_check_sparse(f, W, grad, 10)"
   ]
  },
  {
   "cell_type": "code",
   "execution_count": 48,
   "metadata": {
    "collapsed": false
   },
   "outputs": [
    {
     "name": "stdout",
     "output_type": "stream",
     "text": [
      "naive loss: 2.344051e+00 computed in 0.130376s\n",
      "vectorized loss: 2.344051e+00 computed in 0.079344s\n",
      "Loss difference: 0.000000\n",
      "Gradient difference: 0.000000\n"
     ]
    }
   ],
   "source": [
    "# Now that we have a naive implementation of the softmax loss function and its gradient,\n",
    "# implement a vectorized version in softmax_loss_vectorized.\n",
    "# The two versions should compute the same results, but the vectorized version should be\n",
    "# much faster.\n",
    "tic = time.time()\n",
    "loss_naive, grad_naive = softmax_loss_naive(W, X_dev, y_dev, 0.00001)\n",
    "toc = time.time()\n",
    "print 'naive loss: %e computed in %fs' % (loss_naive, toc - tic)\n",
    "\n",
    "from cs231n.classifiers.softmax import softmax_loss_vectorized\n",
    "tic = time.time()\n",
    "loss_vectorized, grad_vectorized = softmax_loss_vectorized(W, X_dev, y_dev, 0.00001)\n",
    "toc = time.time()\n",
    "print 'vectorized loss: %e computed in %fs' % (loss_vectorized, toc - tic)\n",
    "\n",
    "# As we did for the SVM, we use the Frobenius norm to compare the two versions\n",
    "# of the gradient.\n",
    "grad_difference = np.linalg.norm(grad_naive - grad_vectorized, ord='fro')\n",
    "print 'Loss difference: %f' % np.abs(loss_naive - loss_vectorized)\n",
    "print 'Gradient difference: %f' % grad_difference"
   ]
  },
  {
   "cell_type": "code",
   "execution_count": 64,
   "metadata": {
    "collapsed": false
   },
   "outputs": [
    {
     "name": "stdout",
     "output_type": "stream",
     "text": [
      "lr 1.000000e-07 reg 5.000000e+05\n",
      "iteration 0 / 2000: loss 18890.610051\n",
      "iteration 100 / 2000: loss 38.879433\n",
      "iteration 200 / 2000: loss 29.657150\n",
      "iteration 300 / 2000: loss 30.274265\n",
      "iteration 400 / 2000: loss 27.621269\n",
      "iteration 500 / 2000: loss 31.978004\n",
      "iteration 600 / 2000: loss 35.044296\n",
      "iteration 700 / 2000: loss 23.298351\n",
      "iteration 800 / 2000: loss 30.152984\n",
      "iteration 900 / 2000: loss 31.291931\n",
      "iteration 1000 / 2000: loss 35.159686\n",
      "iteration 1100 / 2000: loss 31.031706\n",
      "iteration 1200 / 2000: loss 34.450711\n",
      "iteration 1300 / 2000: loss 27.013371\n",
      "iteration 1400 / 2000: loss 28.251810\n",
      "iteration 1500 / 2000: loss 30.208577\n",
      "iteration 1600 / 2000: loss 30.929917\n",
      "iteration 1700 / 2000: loss 37.312841\n",
      "iteration 1800 / 2000: loss 29.768513\n",
      "iteration 1900 / 2000: loss 34.075362\n",
      "lr 1.000000e-07 reg 7.000000e+05\n",
      "iteration 0 / 2000: loss 7285.068114\n",
      "iteration 100 / 2000: loss 27.214936\n",
      "iteration 200 / 2000: loss 29.958232\n",
      "iteration 300 / 2000: loss 30.959148\n",
      "iteration 400 / 2000: loss 30.716019\n",
      "iteration 500 / 2000: loss 31.280216\n",
      "iteration 600 / 2000: loss 25.870692\n",
      "iteration 700 / 2000: loss 28.910453\n",
      "iteration 800 / 2000: loss 32.376927\n",
      "iteration 900 / 2000: loss 32.242261\n",
      "iteration 1000 / 2000: loss 35.743653\n",
      "iteration 1100 / 2000: loss 32.819352\n",
      "iteration 1200 / 2000: loss 33.286714\n",
      "iteration 1300 / 2000: loss 26.024876\n",
      "iteration 1400 / 2000: loss 31.762656\n",
      "iteration 1500 / 2000: loss 30.343191\n",
      "iteration 1600 / 2000: loss 30.105705\n",
      "iteration 1700 / 2000: loss 32.090276\n",
      "iteration 1800 / 2000: loss 29.213610\n",
      "iteration 1900 / 2000: loss 27.731111\n",
      "lr 5.000000e-07 reg 5.000000e+05\n",
      "iteration 0 / 2000: loss 18066.765043\n",
      "iteration 100 / 2000: loss 29.531506\n",
      "iteration 200 / 2000: loss 32.351822\n",
      "iteration 300 / 2000: loss 42.606669\n",
      "iteration 400 / 2000: loss 41.724830\n",
      "iteration 500 / 2000: loss 44.725059\n",
      "iteration 600 / 2000: loss 41.271516\n",
      "iteration 700 / 2000: loss 29.479543\n",
      "iteration 800 / 2000: loss 48.088279\n",
      "iteration 900 / 2000: loss 38.267709\n",
      "iteration 1000 / 2000: loss 39.943063\n",
      "iteration 1100 / 2000: loss 52.556062\n",
      "iteration 1200 / 2000: loss 38.994007\n",
      "iteration 1300 / 2000: loss 17.991873\n",
      "iteration 1400 / 2000: loss 42.621141\n",
      "iteration 1500 / 2000: loss 53.456013\n",
      "iteration 1600 / 2000: loss 41.610346\n",
      "iteration 1700 / 2000: loss 38.896985\n",
      "iteration 1800 / 2000: loss 30.130932\n",
      "iteration 1900 / 2000: loss 30.185757\n",
      "lr 5.000000e-07 reg 7.000000e+05\n",
      "iteration 0 / 2000: loss 10494.872554\n",
      "iteration 100 / 2000: loss 29.638448\n",
      "iteration 200 / 2000: loss 32.635564\n",
      "iteration 300 / 2000: loss 44.732525\n",
      "iteration 400 / 2000: loss 42.080639\n",
      "iteration 500 / 2000: loss 34.705198\n",
      "iteration 600 / 2000: loss 33.955174\n",
      "iteration 700 / 2000: loss 30.863092\n",
      "iteration 800 / 2000: loss 37.960914\n",
      "iteration 900 / 2000: loss 45.210303\n",
      "iteration 1000 / 2000: loss 46.970218\n",
      "iteration 1100 / 2000: loss 31.670065\n",
      "iteration 1200 / 2000: loss 36.631177\n",
      "iteration 1300 / 2000: loss 25.657593\n",
      "iteration 1400 / 2000: loss 37.967206\n",
      "iteration 1500 / 2000: loss 40.824527\n",
      "iteration 1600 / 2000: loss 27.078198\n",
      "iteration 1700 / 2000: loss 34.820230\n",
      "iteration 1800 / 2000: loss 32.456377\n",
      "iteration 1900 / 2000: loss 39.193892\n",
      "lr 1.000000e-07 reg 5.000000e+05 train accuracy: 0.267755 val accuracy: 0.287000\n",
      "lr 1.000000e-07 reg 7.000000e+05 train accuracy: 0.256714 val accuracy: 0.275000\n",
      "lr 5.000000e-07 reg 5.000000e+05 train accuracy: 0.258286 val accuracy: 0.274000\n",
      "lr 5.000000e-07 reg 7.000000e+05 train accuracy: 0.245939 val accuracy: 0.248000\n",
      "best validation accuracy achieved during cross-validation: 0.287000\n"
     ]
    }
   ],
   "source": [
    "# Use the validation set to tune hyperparameters (regularization strength and\n",
    "# learning rate). You should experiment with different ranges for the learning\n",
    "# rates and regularization strengths; if you are careful you should be able to\n",
    "# get a classification accuracy of over 0.35 on the validation set.\n",
    "from cs231n.classifiers import Softmax\n",
    "results = {}\n",
    "best_val = -1\n",
    "best_softmax = None\n",
    "learning_rates = [1e-7, 5e-7]\n",
    "regularization_strengths = [5e5, 7e5]\n",
    "\n",
    "################################################################################\n",
    "# TODO:                                                                        #\n",
    "# Use the validation set to set the learning rate and regularization strength. #\n",
    "# This should be identical to the validation that you did for the SVM; save    #\n",
    "# the best trained softmax classifer in best_softmax.                          #\n",
    "################################################################################\n",
    "for lr in learning_rates:\n",
    "    for reg in regularization_strengths:\n",
    "        print 'lr %e reg %e'%(lr, reg)\n",
    "        softmax = Softmax()\n",
    "        softmax.train(X_train, y_train, learning_rate=lr, reg=reg,\n",
    "                          num_iters=2000, verbose=True)\n",
    "        y_train_pred = softmax.predict(X_train)\n",
    "        y_val_pred = softmax.predict(X_val)\n",
    "        train_accuracy = np.mean(y_train == y_train_pred)\n",
    "        val_accuracy = np.mean(y_val == y_val_pred)\n",
    "        if val_accuracy > best_val:\n",
    "            best_val = val_accuracy\n",
    "            best_softmax = softmax\n",
    "            \n",
    "        results[(lr,reg)] = train_accuracy, val_accuracy\n",
    "################################################################################\n",
    "#                              END OF YOUR CODE                                #\n",
    "################################################################################\n",
    "    \n",
    "# Print out results.\n",
    "for lr, reg in sorted(results):\n",
    "    train_accuracy, val_accuracy = results[(lr, reg)]\n",
    "    print 'lr %e reg %e train accuracy: %f val accuracy: %f' % (\n",
    "                lr, reg, train_accuracy, val_accuracy)\n",
    "    \n",
    "print 'best validation accuracy achieved during cross-validation: %f' % best_val"
   ]
  },
  {
   "cell_type": "code",
   "execution_count": 63,
   "metadata": {
    "collapsed": false
   },
   "outputs": [
    {
     "name": "stdout",
     "output_type": "stream",
     "text": [
      "softmax on raw pixels final test set accuracy: 0.352000\n"
     ]
    }
   ],
   "source": [
    "# evaluate on test set\n",
    "# Evaluate the best softmax on test set\n",
    "y_test_pred = best_softmax.predict(X_test)\n",
    "test_accuracy = np.mean(y_test == y_test_pred)\n",
    "print 'softmax on raw pixels final test set accuracy: %f' % (test_accuracy, )"
   ]
  },
  {
   "cell_type": "code",
   "execution_count": 65,
   "metadata": {
    "collapsed": false
   },
   "outputs": [
    {
     "data": {
      "image/png": "[encoded data removed]",
      "text/plain": [
       "<matplotlib.figure.Figure at 0x10ba59690>"
      ]
     },
     "metadata": {},
     "output_type": "display_data"
    }
   ],
   "source": [
    "# Visualize the learned weights for each class\n",
    "w = best_softmax.W[:-1,:] # strip out the bias\n",
    "w = w.reshape(32, 32, 3, 10)\n",
    "\n",
    "w_min, w_max = np.min(w), np.max(w)\n",
    "\n",
    "classes = ['plane', 'car', 'bird', 'cat', 'deer', 'dog', 'frog', 'horse', 'ship', 'truck']\n",
    "for i in xrange(10):\n",
    "  plt.subplot(2, 5, i + 1)\n",
    "  \n",
    "  # Rescale the weights to be between 0 and 255\n",
    "  wimg = 255.0 * (w[:, :, :, i].squeeze() - w_min) / (w_max - w_min)\n",
    "  plt.imshow(wimg.astype('uint8'))\n",
    "  plt.axis('off')\n",
    "  plt.title(classes[i])"
   ]
  },
  {
   "cell_type": "code",
   "execution_count": null,
   "metadata": {
    "collapsed": true
   },
   "outputs": [],
   "source": []
  }
 ],
 "metadata": {
  "anaconda-cloud": {},
  "kernelspec": {
   "display_name": "Python [default]",
   "language": "python",
   "name": "python2"
  },
  "language_info": {
   "codemirror_mode": {
    "name": "ipython",
    "version": 2
   },
   "file_extension": ".py",
   "mimetype": "text/x-python",
   "name": "python",
   "nbconvert_exporter": "python",
   "pygments_lexer": "ipython2",
   "version": "2.7.12"
  }
 },
 "nbformat": 4,
 "nbformat_minor": 0
}
