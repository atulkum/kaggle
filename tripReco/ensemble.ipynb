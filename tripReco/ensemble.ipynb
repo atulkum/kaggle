{
 "cells": [
  {
   "cell_type": "code",
   "execution_count": 3,
   "metadata": {
    "collapsed": false
   },
   "outputs": [],
   "source": [
    "#import seaborn as sns\n",
    "import numpy as np\n",
    "import pandas as pd\n",
    "import pickle\n",
    "import time"
   ]
  },
  {
   "cell_type": "code",
   "execution_count": 10,
   "metadata": {
    "collapsed": false
   },
   "outputs": [],
   "source": [
    "gini = pd.read_csv('rf_criterion_gini_max_depth_200_n_estimators_13_1450163991458.csv', index_col= 'VisitNumber')\n",
    "entropy = pd.read_csv('rf_criterion_entropy_max_depth_200_n_estimators_13_1450163364998.csv', index_col='VisitNumber')\n",
    "df_concat = pd.concat((gini, entropy))\n",
    "by_row_index = df_concat.groupby(df_concat.index)\n",
    "df_means = by_row_index.mean()\n",
    "\n",
    "millis = int(round(time.time() * 1000))\n",
    "filename = 'rf_gini_entropy_ensemble_max_depth_%d_n_estimators_%d_%d.csv'%(17, 600, millis)\n",
    "df_means.to_csv(filename)"
   ]
  },
  {
   "cell_type": "code",
   "execution_count": 4,
   "metadata": {
    "collapsed": false
   },
   "outputs": [],
   "source": [
    "xgb = pd.read_csv('xgb_all.csv', index_col= 'VisitNumber')\n",
    "entropy = pd.read_csv('rf_criterion_entropy_max_depth_200_n_estimators_13_1450163364998.csv', index_col='VisitNumber')\n",
    "df_concat = pd.concat((entropy, xgb))\n",
    "by_row_index = df_concat.groupby(df_concat.index)\n",
    "df_means = by_row_index.mean()\n",
    "\n",
    "\n",
    "millis = int(round(time.time() * 1000))\n",
    "filename = 'xgb_entropy_ensemble%d'%(millis)\n",
    "df_means.to_csv(filename)"
   ]
  },
  {
   "cell_type": "code",
   "execution_count": 4,
   "metadata": {
    "collapsed": false
   },
   "outputs": [],
   "source": [
    "desc = pd.read_csv('xgb_desc_1450756899702.csv', index_col= 'VisitNumber')\n",
    "fileno = pd.read_csv('xgb_fileno_1450757061601.csv', index_col='VisitNumber')\n",
    "other = pd.read_csv('xgb_other_1450754848324.csv', index_col='VisitNumber')\n",
    "upc = pd.read_csv('xgb_upc_1450754443243.csv', index_col='VisitNumber')\n",
    "\n",
    "df_concat = pd.concat((desc, fileno, other,upc))\n",
    "by_row_index = df_concat.groupby(df_concat.index)\n",
    "df_means = by_row_index.mean()\n",
    "\n",
    "millis = int(round(time.time() * 1000))\n",
    "filename = 'xgb_column_ensemble%d'%(millis)\n",
    "df_means.to_csv(filename)"
   ]
  },
  {
   "cell_type": "code",
   "execution_count": 5,
   "metadata": {
    "collapsed": true
   },
   "outputs": [],
   "source": [
    "xgb = pd.read_csv('xgb_all_1450759373315.csv', index_col= 'VisitNumber')\n",
    "rf = pd.read_csv('rf_all_1450761708490.csv', index_col='VisitNumber')\n",
    "\n",
    "\n",
    "df_concat = pd.concat((xgb, rf))\n",
    "by_row_index = df_concat.groupby(df_concat.index)\n",
    "df_means = by_row_index.mean()\n",
    "\n",
    "millis = int(round(time.time() * 1000))\n",
    "filename = 'xgb_rf_ensemble%d.csv'%(millis)\n",
    "df_means.to_csv(filename)"
   ]
  },
  {
   "cell_type": "code",
   "execution_count": 13,
   "metadata": {
    "collapsed": false
   },
   "outputs": [],
   "source": [
    "from scipy import stats as scistats\n",
    "\n",
    "df_gmeans = by_row_index.agg(lambda x: scistats.gmean(x))\n",
    "\n",
    "submission=pd.read_csv('sample_submission.csv',index_col=0)\n",
    "names = submission.columns.values\n",
    "millis = int(round(time.time() * 1000))\n",
    "filename = 'rf_gmean_gini_entropy_ensemble_max_depth_%d_n_estimators_%d_%d.csv'%(17, 600, millis)\n",
    "df_gmeans.to_csv(filename)"
   ]
  },
  {
   "cell_type": "code",
   "execution_count": null,
   "metadata": {
    "collapsed": true
   },
   "outputs": [],
   "source": []
  }
 ],
 "metadata": {
  "kernelspec": {
   "display_name": "Python 2",
   "language": "python",
   "name": "python2"
  },
  "language_info": {
   "codemirror_mode": {
    "name": "ipython",
    "version": 2
   },
   "file_extension": ".py",
   "mimetype": "text/x-python",
   "name": "python",
   "nbconvert_exporter": "python",
   "pygments_lexer": "ipython2",
   "version": "2.7.10"
  }
 },
 "nbformat": 4,
 "nbformat_minor": 0
}
