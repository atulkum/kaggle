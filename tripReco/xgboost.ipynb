{
 "cells": [
  {
   "cell_type": "code",
   "execution_count": 1,
   "metadata": {
    "collapsed": true
   },
   "outputs": [],
   "source": [
    "import math\n",
    "from sklearn.cross_validation import KFold\n",
    "from sklearn.ensemble import RandomForestClassifier\n",
    "import numpy as np\n",
    "import pandas as pd\n",
    "import pickle\n",
    "from sklearn.cross_validation import train_test_split\n",
    "from sklearn.feature_extraction import DictVectorizer\n",
    "from sklearn.grid_search import GridSearchCV"
   ]
  },
  {
   "cell_type": "code",
   "execution_count": 13,
   "metadata": {
    "collapsed": false
   },
   "outputs": [],
   "source": [
    "%run 'methods.ipynb'\n",
    "%run 'XGBoost_class.ipynb'"
   ]
  },
  {
   "cell_type": "code",
   "execution_count": 24,
   "metadata": {
    "collapsed": false
   },
   "outputs": [
    {
     "name": "stdout",
     "output_type": "stream",
     "text": [
      "0.03 4 => 3.29110023383\n",
      "0.03 5 => 3.29185186442\n",
      "0.03 6 => 3.29170321854\n",
      "0.03 7 => 3.29132234063\n",
      "0.03 8 => 3.29064725825\n",
      "0.06 4 => 3.20329943795\n",
      "0.06 5 => 3.20720585765\n",
      "0.06 6 => 3.21092431128\n",
      "0.06 7 => 3.21197361246\n",
      "0.06 8 => 3.21303930247\n",
      "0.1 4 => 3.20088396599\n",
      "0.1 5 => 3.21163508682\n",
      "0.1 6 => 3.21900733777\n",
      "0.1 7 => 3.22261530458\n",
      "0.1 8 => 3.22669499453\n"
     ]
    }
   ],
   "source": [
    "df_train = pd.read_csv('train.csv')\n",
    "labels, y = getLabeled(df_train['TripType'])\n",
    "\n",
    "\n",
    "num_classes = len(np.unique(y))\n",
    "\n",
    "params = {    \n",
    "              'subsample':0.8,\n",
    "              'colsample_bytree': 0.7,\n",
    "              'objective': 'multi:softprob',\n",
    "              'eval_metric': 'mlogloss',\n",
    "              'num_class': num_classes,\n",
    "              'silent':1,\n",
    "              'eta': 0.3,\n",
    "              'max_depth': 8,\n",
    "              'min_child_weight': 1,\n",
    "              'num_round': 1024\n",
    "}\n",
    "\n",
    "#k fold validation\n",
    "kf= KFold(len(y), n_folds=10, shuffle=True, random_state=None)\n",
    "\n",
    "#for num_round in [1024]:\n",
    "for eta in [0.03, 0.06, 0.1]:\n",
    "    for max_depth in [4, 5, 6, 7, 8]:\n",
    "        avg = 0\n",
    "        for train_index, test_index in kf:\n",
    "            X_train, X_test = df_train.iloc[train_index] , df_train.iloc[test_index] \n",
    "                \n",
    "            y_train = getY(X_train, labels)\n",
    "            y_test = getY(X_test, labels)\n",
    "            #features_train, features_test = generateTestTrainFeature(X_train, X_test)\n",
    "                    \n",
    "            train_other = getFeaturesTrain(X_train)\n",
    "            upc_dict, upc_vec, train_upc = getCountVectorTrain(X_train,X_test, 'Upc')\n",
    "            fileno_dict, fileno_vec, train_fine = getCountVectorTrain(X_train,X_test, 'FinelineNumber')\n",
    "            \n",
    "            test_other = getFeaturesTest(X_test)\n",
    "            test_upc = getCountVectorTest(X_test, 'Upc', upc_dict, upc_vec)\n",
    "            test_fine = getCountVectorTest(X_test, 'FinelineNumber', fileno_dict, fileno_vec)\n",
    "            \n",
    "            vec_desc, train_desc = processDescTrain(X_train, True)\n",
    "            test_desc = processDescTest(X_test, True, vec_desc)\n",
    "\n",
    "            forest = RandomForestClassifier(max_depth=17, n_estimators=50, random_state=0) \n",
    "            forest.fit(train_desc, y_train)\n",
    "            y_train_desc_rf = forest.predict_proba(train_desc)\n",
    "            y_test_desc_rf = forest.predict_proba(test_desc)\n",
    "            \n",
    "            train_desc_rf = pd.DataFrame(y_train_desc_rf)\n",
    "            train_desc_rf.set_index(np.unique(train_desc.index), inplace=True)\n",
    "            train_desc_rf.index.name = 'VisitNumber'\n",
    "            \n",
    "            test_desc_rf = pd.DataFrame(y_test_desc_rf)\n",
    "            test_desc_rf.set_index(np.unique(test_desc.index), inplace=True)\n",
    "            test_desc_rf.index.name = 'VisitNumber'\n",
    "    \n",
    "            features_train = pd.concat([train_other, train_upc, train_fine, train_desc_rf], axis=1) \n",
    "            features_test = pd.concat([test_other, test_upc, test_fine, test_desc_rf], axis=1) \n",
    "            \n",
    "            params['eta'] = eta\n",
    "            params['max_depth'] = max_depth\n",
    "                \n",
    "            clfxgb = XGBoostClassifier(**params)\n",
    "            clfxgb.fit(features_train , y_train )\n",
    "            y_pred = clfxgb.predict_proba(features_test)\n",
    "            avg += loss_function(y_test, y_pred)\n",
    "\n",
    "        print eta, max_depth,\"=>\", avg/len(kf)"
   ]
  },
  {
   "cell_type": "code",
   "execution_count": 17,
   "metadata": {
    "collapsed": false
   },
   "outputs": [],
   "source": [
    "df_train = pd.read_csv('train.csv')\n",
    "labels, y = getLabeled(df_train['TripType'])\n",
    "df_test = pd.read_csv('test.csv')\n",
    "upc_dict, upc_vec, features_train = getCountVectorTrain(df_train,df_test, 'FinelineNumber')\n",
    "features_test = getCountVectorTest(df_test, 'FinelineNumber', upc_dict, upc_vec)\n",
    "\n",
    "y_train = getY(df_train, labels)\n",
    "\n",
    "params['eta'] = 0.1\n",
    "params['max_depth'] = 8\n",
    "                \n",
    "clfxgb = XGBoostClassifier(**params)\n",
    "clfxgb.fit(features_train , y_train )"
   ]
  },
  {
   "cell_type": "code",
   "execution_count": 18,
   "metadata": {
    "collapsed": false
   },
   "outputs": [],
   "source": [
    "generateSubmission(features_test, clfxgb, labels, \"xgb_filelineno\")"
   ]
  },
  {
   "cell_type": "code",
   "execution_count": 25,
   "metadata": {
    "collapsed": true
   },
   "outputs": [],
   "source": [
    "df_train = pd.read_csv('train.csv')\n",
    "labels, y = getLabeled(df_train['TripType'])\n",
    "\n",
    "y_train = getY(df_train, labels)\n",
    "\n",
    "train_other = getFeaturesTrain(X_train)\n",
    "upc_dict, upc_vec, train_upc = getCountVectorTrain(X_train,X_test, 'Upc')\n",
    "fileno_dict, fileno_vec, train_fine = getCountVectorTrain(X_train,X_test, 'FinelineNumber')\n",
    "vec_desc, train_desc = processDescTrain(X_train, True)\n",
    "            \n",
    "            "
   ]
  },
  {
   "cell_type": "code",
   "execution_count": null,
   "metadata": {
    "collapsed": true
   },
   "outputs": [],
   "source": []
  }
 ],
 "metadata": {
  "kernelspec": {
   "display_name": "Python 2",
   "language": "python",
   "name": "python2"
  },
  "language_info": {
   "codemirror_mode": {
    "name": "ipython",
    "version": 2
   },
   "file_extension": ".py",
   "mimetype": "text/x-python",
   "name": "python",
   "nbconvert_exporter": "python",
   "pygments_lexer": "ipython2",
   "version": "2.7.10"
  }
 },
 "nbformat": 4,
 "nbformat_minor": 0
}
