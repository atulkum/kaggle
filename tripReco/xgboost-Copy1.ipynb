{
 "cells": [
  {
   "cell_type": "code",
   "execution_count": 1,
   "metadata": {
    "collapsed": true
   },
   "outputs": [],
   "source": [
    "import math\n",
    "from sklearn.cross_validation import KFold\n",
    "from sklearn.ensemble import RandomForestClassifier\n",
    "import numpy as np\n",
    "import pandas as pd\n",
    "import pickle\n",
    "from sklearn.cross_validation import train_test_split\n",
    "from sklearn.feature_extraction import DictVectorizer\n",
    "from sklearn.grid_search import GridSearchCV"
   ]
  },
  {
   "cell_type": "code",
   "execution_count": 2,
   "metadata": {
    "collapsed": false
   },
   "outputs": [],
   "source": [
    "%run 'methods.ipynb'\n",
    "%run 'XGBoost_class.ipynb'"
   ]
  },
  {
   "cell_type": "code",
   "execution_count": 3,
   "metadata": {
    "collapsed": false
   },
   "outputs": [
    {
     "name": "stdout",
     "output_type": "stream",
     "text": [
      "0.03 4 => 3.32202348104\n",
      "0.03 5 => 3.31729984877\n",
      "0.03 6 => 3.31164573072\n",
      "0.03 7 => 3.30799609555\n",
      "0.03 8 => 3.3041840104\n",
      "0.06 4 => 3.22628921903\n",
      "0.06 5 => 3.22593791766\n",
      "0.06 6 => 3.22214575574\n",
      "0.06 7 => 3.2198899137\n",
      "0.06 8 => 3.21885637876\n",
      "0.1 4 => 3.19964850381\n",
      "0.1 5 => 3.20592450631\n",
      "0.1 6 => 3.20803312796\n",
      "0.1 7 => 3.21135880275\n",
      "0.1 8 => 3.21306480344\n"
     ]
    },
    {
     "name": "stderr",
     "output_type": "stream",
     "text": [
      "/Users/atulkumar/anaconda/lib/python2.7/site-packages/pandas/core/generic.py:2273: SettingWithCopyWarning: \n",
      "A value is trying to be set on a copy of a slice from a DataFrame.\n",
      "Try using .loc[row_indexer,col_indexer] = value instead\n",
      "\n",
      "See the caveats in the documentation: http://pandas.pydata.org/pandas-docs/stable/indexing.html#indexing-view-versus-copy\n",
      "  self[name] = value\n"
     ]
    }
   ],
   "source": [
    "df_train = pd.read_csv('train.csv')\n",
    "labels, y = getLabeled(df_train['TripType'])\n",
    "\n",
    "\n",
    "num_classes = len(np.unique(y))\n",
    "\n",
    "params = {    \n",
    "              'subsample':0.8,\n",
    "              'colsample_bytree': 0.7,\n",
    "              'objective': 'multi:softprob',\n",
    "              'eval_metric': 'mlogloss',\n",
    "              'num_class': num_classes,\n",
    "              'silent':1,\n",
    "              'eta': 0.3,\n",
    "              'max_depth': 8,\n",
    "              'min_child_weight': 1,\n",
    "              'num_round': 1024\n",
    "}\n",
    "\n",
    "#k fold validation\n",
    "kf= KFold(len(y), n_folds=10, shuffle=True, random_state=None)\n",
    "\n",
    "#for num_round in [1024]:\n",
    "for eta in [0.03, 0.06, 0.1]:\n",
    "    for max_depth in [4, 5, 6, 7, 8]:\n",
    "        avg = 0\n",
    "        for train_index, test_index in kf:\n",
    "            X_train, X_test = df_train.iloc[train_index] , df_train.iloc[test_index] \n",
    "                \n",
    "            features_train, features_test = generateTestTrainFeature(X_train, X_test)\n",
    "                    \n",
    "            #features_train = getFeaturesTrain(X_train)\n",
    "            #vec_desc, features_train = processDescTrain(X_train, True)\n",
    "            #upc_dict, upc_vec, upc_feature = getCountVectorTrain(X_train, 'Upc')\n",
    "            #fileno_dict, fileno_vec, fileno_feature = getCountVectorTrain(X_train, 'FinelineNumber')\n",
    "                    \n",
    "            #features_test = getFeaturesTest(X_test)\n",
    "            #features_test = processDescTest(X_test, True, vec_desc)\n",
    "            #upc_feature_test = getCountVectorTest(X_test, 'Upc', upc_dict, upc_vec)\n",
    "            #fileno_feature_test = getCountVectorTest(X_test, 'FinelineNumber', fileno_dict, fileno_vec)\n",
    "                    \n",
    "            y_train = getY(X_train, labels)\n",
    "            y_test = getY(X_test, labels)\n",
    "                            \n",
    "            \n",
    "            params['eta'] = eta\n",
    "            params['max_depth'] = max_depth\n",
    "                \n",
    "            clfxgb = XGBoostClassifier(**params)\n",
    "            clfxgb.fit(features_train , y_train )\n",
    "            y_pred = clfxgb.predict_proba(features_test)\n",
    "            avg += loss_function(y_test, y_pred)\n",
    "\n",
    "        print eta, max_depth,\"=>\", avg/len(kf)"
   ]
  },
  {
   "cell_type": "code",
   "execution_count": null,
   "metadata": {
    "collapsed": false
   },
   "outputs": [],
   "source": [
    "df_test = pd.read_csv('test.csv')\n",
    "features_train, features_test = generateTestTrainFeature(df_train, df_test)\n",
    "\n",
    "y_train = getY(df_train, labels)\n",
    "\n",
    "params['eta'] = 0.1\n",
    "params['max_depth'] = 8\n",
    "                \n",
    "clfxgb = XGBoostClassifier(**params)\n",
    "clfxgb.fit(features_train , y_train )"
   ]
  },
  {
   "cell_type": "code",
   "execution_count": null,
   "metadata": {
    "collapsed": false
   },
   "outputs": [],
   "source": [
    "generateSubmission(features_test, clfxgb, labels, \"xgb_all\")"
   ]
  },
  {
   "cell_type": "code",
   "execution_count": null,
   "metadata": {
    "collapsed": true
   },
   "outputs": [],
   "source": []
  }
 ],
 "metadata": {
  "kernelspec": {
   "display_name": "Python 2",
   "language": "python",
   "name": "python2"
  },
  "language_info": {
   "codemirror_mode": {
    "name": "ipython",
    "version": 2
   },
   "file_extension": ".py",
   "mimetype": "text/x-python",
   "name": "python",
   "nbconvert_exporter": "python",
   "pygments_lexer": "ipython2",
   "version": "2.7.10"
  }
 },
 "nbformat": 4,
 "nbformat_minor": 0
}
