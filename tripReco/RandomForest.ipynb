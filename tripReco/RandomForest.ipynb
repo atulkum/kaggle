{
 "cells": [
  {
   "cell_type": "code",
   "execution_count": 2,
   "metadata": {
    "collapsed": true
   },
   "outputs": [],
   "source": [
    "import math\n",
    "from sklearn.cross_validation import KFold\n",
    "from sklearn.ensemble import RandomForestClassifier\n",
    "import numpy as np\n",
    "import pandas as pd\n",
    "import pickle\n",
    "from sklearn.cross_validation import train_test_split\n",
    "from sklearn.feature_extraction import DictVectorizer"
   ]
  },
  {
   "cell_type": "code",
   "execution_count": 1,
   "metadata": {
    "collapsed": true
   },
   "outputs": [],
   "source": [
    "%run 'methods.ipynb'"
   ]
  },
  {
   "cell_type": "code",
   "execution_count": null,
   "metadata": {
    "collapsed": false
   },
   "outputs": [],
   "source": [
    "X_train, X_test, y_train, y_test = train_test_split(df_train, y, test_size=0.33, random_state=0)\n",
    "\n",
    "features_train, features_test = generateTestTrainFeature(X_train, X_test)\n",
    "y_train = getY(X_train, labels)\n",
    "y_test = getY(X_test, labels)\n"
   ]
  },
  {
   "cell_type": "code",
   "execution_count": null,
   "metadata": {
    "collapsed": false
   },
   "outputs": [],
   "source": [
    "y_train = getY(X_train, labels)\n",
    "y_test = getY(X_test, labels)"
   ]
  },
  {
   "cell_type": "code",
   "execution_count": null,
   "metadata": {
    "collapsed": false
   },
   "outputs": [],
   "source": [
    "#train and test set validation\n",
    "\n",
    "forest = RandomForestClassifier(criterion='entropy', max_depth=17, n_estimators=50, random_state=0)\n",
    "forest = forest.fit(features_train , y_train )"
   ]
  },
  {
   "cell_type": "code",
   "execution_count": null,
   "metadata": {
    "collapsed": false
   },
   "outputs": [],
   "source": [
    "y_pred = forest.predict_proba(features_test)\n",
    "loss_function(y_test, y_pred)"
   ]
  },
  {
   "cell_type": "code",
   "execution_count": 6,
   "metadata": {
    "collapsed": false
   },
   "outputs": [
    {
     "name": "stdout",
     "output_type": "stream",
     "text": [
      "gini 1000 4 => 3.33435853318\n",
      "gini 1000 8 => 3.93321917309\n",
      "gini 1000 12 => 4.81782253458\n",
      "gini 1000 17 => 6.24403733144\n",
      "gini 1000 25 => 7.17762563013\n",
      "gini 1000 30 => 7.17969905579\n",
      "gini 1000 40 => 7.17976049814\n",
      "gini 1000 50 => 7.17976049814\n"
     ]
    }
   ],
   "source": [
    "#k fold validation\n",
    "kf= KFold(len(y), n_folds=5, shuffle=True, random_state=None)\n",
    "train_y_list = []\n",
    "test_y_list = []\n",
    "train_X_list = []\n",
    "test_X_list = []\n",
    "isCache = False\n",
    "for criterion in ['gini']:\n",
    "    for n_estimator in [1000]:\n",
    "        for max_depth in [4, 8, 12, 17, 25, 30, 40, 50]: \n",
    "            avg = 0\n",
    "            i = 0\n",
    "            for train_index, test_index in kf:\n",
    "                if not isCache:\n",
    "                    X_train, X_test = df_train.iloc[train_index] , df_train.iloc[test_index] \n",
    "                \n",
    "                    #features_train, features_test = generateTestTrainFeature(X_train, X_test)\n",
    "                    \n",
    "                    features_train = getFeaturesTrain(X_train)\n",
    "                    #vec_desc, desc_feature = processDescTrain(X_train, True)\n",
    "                    #upc_dict, upc_vec, upc_feature = getCountVectorTrain(X_train, 'Upc')\n",
    "                    #fileno_dict, fileno_vec, fileno_feature = getCountVectorTrain(X_train, 'FinelineNumber')\n",
    "                    \n",
    "                    features_test = getFeaturesTest(X_test)\n",
    "                    #desc_feature_test = processDescTest(X_test, True, vec_desc)\n",
    "                    #upc_feature_test = getCountVectorTest(X_test, 'Upc', upc_dict, upc_vec)\n",
    "                    #fileno_feature_test = getCountVectorTest(X_test, 'FinelineNumber', fileno_dict, fileno_vec)\n",
    "                    \n",
    "                    y_train = getY(X_train, labels)\n",
    "                    y_test = getY(X_test, labels)\n",
    "                    \n",
    "                    train_y_list.append(y_train)\n",
    "                    train_X_list.append(features_train)\n",
    "                    test_y_list.append(y_test)\n",
    "                    test_X_list.append(features_test)\n",
    "                    \n",
    "                else:\n",
    "                    features_train, features_test = train_X_list[i], test_X_list[i]\n",
    "                    y_train, y_test = train_y_list[i], test_y_list[i]\n",
    "                    \n",
    "                forest = RandomForestClassifier(criterion=criterion, max_depth=max_depth, n_estimators=n_estimator, random_state=0) \n",
    "                forest.fit(features_train , y_train )\n",
    "                y_pred = forest.predict_proba(features_test)\n",
    "                avg += loss_function(y_test, y_pred)\n",
    "                i += 1    \n",
    "            isCache = True\n",
    "            print criterion, n_estimator, max_depth,\"=>\", avg/len(kf)\n"
   ]
  },
  {
   "cell_type": "code",
   "execution_count": 5,
   "metadata": {
    "collapsed": false
   },
   "outputs": [
    {
     "data": {
      "text/plain": [
       "RandomForestClassifier(bootstrap=True, class_weight=None, criterion='gini',\n",
       "            max_depth=4, max_features='auto', max_leaf_nodes=None,\n",
       "            min_samples_leaf=1, min_samples_split=2,\n",
       "            min_weight_fraction_leaf=0.0, n_estimators=1000, n_jobs=1,\n",
       "            oob_score=False, random_state=0, verbose=0, warm_start=False)"
      ]
     },
     "execution_count": 5,
     "metadata": {},
     "output_type": "execute_result"
    }
   ],
   "source": [
    "df_train = pd.read_csv('train.csv')\n",
    "labels, y = getLabeled(df_train['TripType'])\n",
    "df_test = pd.read_csv('test.csv')\n",
    "\n",
    "y_train = getY(df_train, labels)\n",
    "\n",
    "vec_desc, features_train = processDescTrain(X_train, True)\n",
    "\n",
    "#trained with tuned classifier\n",
    "forest = RandomForestClassifier(max_depth=17, n_estimators=1000, random_state=0) \n",
    "forest.fit(features_train, y_train)\n",
    "features_test = processDescTest(X_test, True, vec_desc)\n"
   ]
  },
  {
   "cell_type": "code",
   "execution_count": 6,
   "metadata": {
    "collapsed": false
   },
   "outputs": [],
   "source": [
    "generateSubmission(features_test, forest, labels, \"rf_all\")"
   ]
  },
  {
   "cell_type": "code",
   "execution_count": null,
   "metadata": {
    "collapsed": true
   },
   "outputs": [],
   "source": []
  }
 ],
 "metadata": {
  "kernelspec": {
   "display_name": "Python 2",
   "language": "python",
   "name": "python2"
  },
  "language_info": {
   "codemirror_mode": {
    "name": "ipython",
    "version": 2
   },
   "file_extension": ".py",
   "mimetype": "text/x-python",
   "name": "python",
   "nbconvert_exporter": "python",
   "pygments_lexer": "ipython2",
   "version": "2.7.10"
  }
 },
 "nbformat": 4,
 "nbformat_minor": 0
}
