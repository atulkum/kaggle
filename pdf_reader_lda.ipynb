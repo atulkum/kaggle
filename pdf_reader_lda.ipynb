{
 "cells": [
  {
   "cell_type": "code",
   "execution_count": 1,
   "metadata": {},
   "outputs": [],
   "source": [
    "import re\n",
    "from pdfminer.pdfinterp import PDFResourceManager, PDFPageInterpreter\n",
    "from pdfminer.converter import TextConverter\n",
    "from pdfminer.layout import LAParams\n",
    "from pdfminer.pdfpage import PDFPage\n",
    "from io import StringIO\n",
    "import os"
   ]
  },
  {
   "cell_type": "code",
   "execution_count": 2,
   "metadata": {},
   "outputs": [],
   "source": [
    "def convert_pdf_to_txt(outfile, infile):\n",
    "    rsrcmgr = PDFResourceManager()\n",
    "    retstr = StringIO()\n",
    "    \n",
    "    pagenos = set()\n",
    "    maxpages = 0\n",
    "    # output option\n",
    "    imagewriter = None\n",
    "    rotation = 0\n",
    "    stripcontrol = False\n",
    "    layoutmode = 'normal'\n",
    "    encoding = 'utf-8'\n",
    "    #pageno = 1\n",
    "    pagenos=set()\n",
    "    scale = 1\n",
    "    caching = True\n",
    "    showpageno = True\n",
    "    laparams = LAParams()\n",
    "    \n",
    "\n",
    "    outfp = open(outfile, 'w', encoding=encoding)\n",
    "    \n",
    "    device = TextConverter(rsrcmgr, outfp, laparams=laparams,\n",
    "                               imagewriter=imagewriter)\n",
    "        \n",
    "    password = b''\n",
    "    maxpages = 0\n",
    "    caching = True\n",
    "    \n",
    "    with open(infile, 'rb') as fp:\n",
    "        interpreter = PDFPageInterpreter(rsrcmgr, device)\n",
    "        for page in PDFPage.get_pages(fp, pagenos,\n",
    "                                          maxpages=maxpages, password=password,\n",
    "                                          caching=caching, check_extractable=True):\n",
    "            #page.rotate = (page.rotate+rotation) % 360\n",
    "            interpreter.process_page(page)\n",
    "            \n",
    "    device.close()\n",
    "    outfp.close()\n",
    "    \n",
    "    #text = retstr.getvalue()\n",
    "    "
   ]
  },
  {
   "cell_type": "code",
   "execution_count": null,
   "metadata": {},
   "outputs": [],
   "source": [
    "data_dir = '/Users/atkumar/Downloads/fwdwatsonproject'\n",
    "\n",
    "all_head = []\n",
    "substitution = None\n",
    "for f in os.listdir(data_dir):\n",
    "    full_path = os.path.join(data_dir, f)\n",
    "    if os.path.isfile(full_path) and f.endswith('.pdf'):\n",
    "        print(full_path)\n",
    "        txt_filename = os.path.join(data_dir, os.path.splitext(f)[0] + '.txt')\n",
    "        convert_pdf_to_txt(txt_filename, full_path)\n",
    "       "
   ]
  },
  {
   "cell_type": "code",
   "execution_count": 4,
   "metadata": {},
   "outputs": [],
   "source": [
    "def filter_doc(text_filename):\n",
    "    with open(text_filename) as f:\n",
    "        text_doc = f.read().splitlines()\n",
    "    \n",
    "    text_doc=[i.replace('\\xe2\\x80\\x9c','') for i in text_doc]\n",
    "    text_doc=[i.replace('\\xe2\\x80\\x9d','') for i in text_doc ]\n",
    "    text_doc=[i.replace('\\xe2\\x80\\x99s','') for i in text_doc ]\n",
    "\n",
    "    text_doc = [x for x in text_doc if x != ' ']\n",
    "    text_doc = [x for x in text_doc if x != '']\n",
    "\n",
    "    text_doc=[re.sub(\"[^a-zA-Z]+\", \" \", s) for s in text_doc]\n",
    "    return text_doc"
   ]
  },
  {
   "cell_type": "code",
   "execution_count": 5,
   "metadata": {},
   "outputs": [
    {
     "name": "stdout",
     "output_type": "stream",
     "text": [
      "/Users/atkumar/Downloads/fwdwatsonproject/Cairn CLO IX - Preliminary OC (22Jan2018).txt\n",
      "/Users/atkumar/Downloads/fwdwatsonproject/As printed_Neuberger Berman 27 - Preliminary Offering Circular.txt\n",
      "/Users/atkumar/Downloads/fwdwatsonproject/OCP 2014-5 Refi - First Preliminary Offering Circular (as-printed).txt\n",
      "/Users/atkumar/Downloads/fwdwatsonproject/Marathon CLO XI - Preliminary Offering Circular dated January 10, 2018 f....txt\n",
      "/Users/atkumar/Downloads/fwdwatsonproject/Voya CLO 2017-4 -  Offering Circular dated Nov. 22, 2017.txt\n",
      "/Users/atkumar/Downloads/fwdwatsonproject/Dryden 59 - First Preliminary Prospectus 01.02.18.txt\n",
      "/Users/atkumar/Downloads/fwdwatsonproject/Change-Pro Redline - Magnetite VII Refinancing - Conformed Indenture (20....txt\n",
      "/Users/atkumar/Downloads/fwdwatsonproject/MS - CLOMARKET_20180131_WATSON INDENTURE.txt\n",
      "/Users/atkumar/Downloads/fwdwatsonproject/Voya 2016-1 - Indenture (Reset).txt\n",
      "/Users/atkumar/Downloads/fwdwatsonproject/Voya 2016-1 - Final Offering Circular (Reset).txt\n",
      "/Users/atkumar/Downloads/fwdwatsonproject/Parallel 2018-1 Preliminary Offering Memorandum (January 12, 2018).txt\n"
     ]
    }
   ],
   "source": [
    "all_text = []\n",
    "for f in os.listdir(data_dir):\n",
    "    full_path = os.path.join(data_dir, f)\n",
    "    if os.path.isfile(full_path) and f.endswith('.txt'):\n",
    "        print(full_path)\n",
    "        all_text.extend(filter_doc(full_path))"
   ]
  },
  {
   "cell_type": "code",
   "execution_count": 6,
   "metadata": {},
   "outputs": [
    {
     "name": "stdout",
     "output_type": "stream",
     "text": [
      "Using matplotlib backend: Qt5Agg\n",
      "Populating the interactive namespace from numpy and matplotlib\n"
     ]
    },
    {
     "name": "stderr",
     "output_type": "stream",
     "text": [
      "/Users/atkumar/anaconda3/envs/neural_ner/lib/python3.6/site-packages/IPython/core/magics/pylab.py:160: UserWarning: pylab import has clobbered these variables: ['f']\n",
      "`%matplotlib` prevents importing * from pylab and numpy\n",
      "  \"\\n`%matplotlib` prevents importing * from pylab and numpy\"\n"
     ]
    }
   ],
   "source": [
    "from sklearn.feature_extraction.text import CountVectorizer,TfidfVectorizer\n",
    "from sklearn.decomposition import LatentDirichletAllocation\n",
    "import pandas as pd\n",
    "import numpy as np\n",
    "%pylab\n",
    "%matplotlib inline\n",
    "from sklearn.feature_extraction.stop_words import ENGLISH_STOP_WORDS"
   ]
  },
  {
   "cell_type": "code",
   "execution_count": 7,
   "metadata": {},
   "outputs": [],
   "source": [
    "vect=CountVectorizer(ngram_range=(1,1),stop_words='english')\n",
    "dtm=vect.fit_transform(all_text)\n",
    "pd.DataFrame(dtm.toarray(),columns=vect.get_feature_names())\n",
    "lda=LatentDirichletAllocation(n_components=5)\n",
    "lda_dtf = lda.fit_transform(dtm)"
   ]
  },
  {
   "cell_type": "code",
   "execution_count": 8,
   "metadata": {},
   "outputs": [],
   "source": [
    "import numpy as np\n",
    "sorting=np.argsort(lda.components_)[:,::-1]\n",
    "features=np.array(vect.get_feature_names())"
   ]
  },
  {
   "cell_type": "code",
   "execution_count": 9,
   "metadata": {},
   "outputs": [
    {
     "name": "stdout",
     "output_type": "stream",
     "text": [
      "topic 0       topic 1       topic 2       topic 3       topic 4       \n",
      "--------      --------      --------      --------      --------      \n",
      "issuer        manager       notes         date          collateral    \n",
      "trustee       investment    class         payment       obligation    \n",
      "section       issuer        subordinated  account       obligations   \n",
      "tax           collateral    secured       period        rating        \n",
      "shall         securities    note          proceeds      rate          \n",
      "indenture     retention     holders       amounts       principal     \n",
      "income        agreement     global        redemption    debt          \n",
      "holder        management    respect       prior         moody         \n",
      "information   portfolio     refinancing   principal     credit        \n",
      "person        act           additional    payments      issuer        \n",
      "\n",
      "\n"
     ]
    }
   ],
   "source": [
    "import mglearn\n",
    "mglearn.tools.print_topics(topics=range(5), feature_names=features,\n",
    "sorting=sorting, topics_per_chunk=5, n_words=10)"
   ]
  },
  {
   "cell_type": "code",
   "execution_count": 20,
   "metadata": {},
   "outputs": [
    {
     "name": "stdout",
     "output_type": "stream",
     "text": [
      "Up Call Redemption on the day preceding the Redemption Date and y in the case of a Refinancing on the day immediately preceding the Redemption Date provided further that with respect to any Payment Date and any amounts payable to the Issuer under a Hedge Agreement the Collection Period will commence on the day after the prior Payment Date and end on such Payment Date provided further that any Refinancing Proceeds received on the Redemption Date shall be deemed to have been received on the day immediately preceding the Redemption Date .\n",
      "\n",
      "---------------------\n",
      " C to the payment pro rata based on amounts due of any amounts due to a Hedge Counterparty under a Hedge Agreement other than amounts due as a result of the termination or partial termination of such Hedge Agreement and any amounts due to a Hedge Counterparty under a Hedge Agreement pursuant to an early termination or partial termination of such Hedge Agreement as a result of a Priority Hedge Termination Event .\n",
      "\n",
      "---------------------\n",
      " C to the payment pro rata based on amounts due of any amounts due to a Hedge Counterparty under a Hedge Agreement other than amounts due as a result of the termination or partial termination of such Hedge Agreement and any amounts due to a Hedge Counterparty under a Hedge Agreement pursuant to an early termination or partial termination of such Hedge Agreement as a result of a Priority Hedge Termination Event .\n",
      "\n",
      "---------------------\n",
      "interest bearing trust accounts collectively referred to as the Collection Account One such account is designated as the Interest Collection Account and one such account is designated as the Principal Collection Account All Interest Proceeds received by the Trustee after the Amendment Date will be deposited in the Interest Collection Account All other amounts deposited in the Collection Account will be deposited in the Principal Collection Account .\n",
      "\n",
      "---------------------\n"
     ]
    }
   ],
   "source": [
    "#top 4 sentences from topic 2\n",
    "topic_id = 3\n",
    "event_time_Topic=np.argsort(lda_dtf[:,topic_id])[::-1]\n",
    "for i in event_time_Topic[:4]:\n",
    "    print(\".\".join(all_text[i].split(\".\")[:2]) + \".\\n\")\n",
    "    print('---------------------')"
   ]
  },
  {
   "cell_type": "code",
   "execution_count": 10,
   "metadata": {},
   "outputs": [
    {
     "name": "stdout",
     "output_type": "stream",
     "text": [
      "Up Call Redemption on the day preceding the Redemption Date and y in the case of a Refinancing on the day immediately preceding the Redemption Date provided further that with respect to any Payment Date and any amounts payable to the Issuer under a Hedge Agreement the Collection Period will commence on the day after the prior Payment Date and end on such Payment Date provided further that any Refinancing Proceeds received on the Redemption Date shall be deemed to have been received on the day immediately preceding the Redemption Date .\n",
      "\n",
      "---------------------\n",
      " C to the payment pro rata based on amounts due of any amounts due to a Hedge Counterparty under a Hedge Agreement other than amounts due as a result of the termination or partial termination of such Hedge Agreement and any amounts due to a Hedge Counterparty under a Hedge Agreement pursuant to an early termination or partial termination of such Hedge Agreement as a result of a Priority Hedge Termination Event .\n",
      "\n",
      "---------------------\n",
      " C to the payment pro rata based on amounts due of any amounts due to a Hedge Counterparty under a Hedge Agreement other than amounts due as a result of the termination or partial termination of such Hedge Agreement and any amounts due to a Hedge Counterparty under a Hedge Agreement pursuant to an early termination or partial termination of such Hedge Agreement as a result of a Priority Hedge Termination Event .\n",
      "\n",
      "---------------------\n",
      "interest bearing trust accounts collectively referred to as the Collection Account One such account is designated as the Interest Collection Account and one such account is designated as the Principal Collection Account All Interest Proceeds received by the Trustee after the Amendment Date will be deposited in the Interest Collection Account All other amounts deposited in the Collection Account will be deposited in the Principal Collection Account .\n",
      "\n",
      "---------------------\n"
     ]
    }
   ],
   "source": [
    "topic_id = 3\n",
    "Domain_Name_Topic=np.argsort(lda_dtf[:,topic_id])[::-1]\n",
    "for i in Domain_Name_Topic[:4]:\n",
    "    print(\".\".join(all_text[i].split(\".\")[:2]) + \".\\n\")\n",
    "    print('---------------------')"
   ]
  },
  {
   "cell_type": "code",
   "execution_count": 19,
   "metadata": {},
   "outputs": [],
   "source": [
    "from __future__ import  print_function\n",
    "import pyLDAvis\n",
    "import pyLDAvis.sklearn\n",
    "pyLDAvis.enable_notebook()"
   ]
  },
  {
   "cell_type": "code",
   "execution_count": null,
   "metadata": {},
   "outputs": [],
   "source": [
    "zit=pyLDAvis.sklearn.prepare(lda,dtm,vect)\n",
    "pyLDAvis.show(zit)"
   ]
  },
  {
   "cell_type": "code",
   "execution_count": null,
   "metadata": {},
   "outputs": [],
   "source": []
  }
 ],
 "metadata": {
  "kernelspec": {
   "display_name": "Python 3",
   "language": "python",
   "name": "python3"
  },
  "language_info": {
   "codemirror_mode": {
    "name": "ipython",
    "version": 3
   },
   "file_extension": ".py",
   "mimetype": "text/x-python",
   "name": "python",
   "nbconvert_exporter": "python",
   "pygments_lexer": "ipython3",
   "version": "3.6.8"
  }
 },
 "nbformat": 4,
 "nbformat_minor": 2
}
