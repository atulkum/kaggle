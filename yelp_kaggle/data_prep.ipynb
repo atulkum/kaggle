{
 "cells": [
  {
   "cell_type": "code",
   "execution_count": 40,
   "metadata": {
    "collapsed": true
   },
   "outputs": [],
   "source": [
    "import numpy as np\n",
    "import pandas as pd \n",
    "import csv"
   ]
  },
  {
   "cell_type": "code",
   "execution_count": 37,
   "metadata": {
    "collapsed": true
   },
   "outputs": [],
   "source": [
    "feature_column = ['f'+str(i) for i in range(1, 2049)]\n",
    "out_colum_name = ['business_id'] + feature_column "
   ]
  },
  {
   "cell_type": "code",
   "execution_count": 38,
   "metadata": {
    "collapsed": true
   },
   "outputs": [],
   "source": [
    "def getOneRow(name, grouped_df, train=1):\n",
    "    out_list = [name]\n",
    "    for f in feature_column:\n",
    "        avg = np.mean(grouped_df[f])\n",
    "        out_list.append(avg)\n",
    "    return out_list"
   ]
  },
  {
   "cell_type": "code",
   "execution_count": 6,
   "metadata": {
    "collapsed": true
   },
   "outputs": [],
   "source": [
    "data_root = '/Users/atulkumar/ml/yelp/'\n",
    "train_label = pd.read_csv(data_root+'train.csv')\n",
    "train_photo_to_biz = pd.read_csv(data_root+'train_photo_to_biz_ids.csv')\n",
    "train_df = pd.read_csv(data_root+\"train_features.csv\", header=None)\n",
    "train_df.columns = ['photo_id'] +  feature_column\n",
    "train_df1 = pd.merge(train_photo_to_biz, train_df, how='inner', on='photo_id')\n",
    "train_df2 = train_df1.groupby('business_id')"
   ]
  },
  {
   "cell_type": "code",
   "execution_count": 42,
   "metadata": {
    "collapsed": false
   },
   "outputs": [],
   "source": [
    "train_out_handle = open('train_business_feature.csv', \"w\")\n",
    "train_writer = csv.writer(train_out_handle)\n",
    "train_writer.writerow(out_colum_name)\n",
    "counter = 0\n",
    "for name, group in train_df2:\n",
    "    out_row = getOneRow(name, group, train=1)\n",
    "    assert len(out_row) == len(out_colum_name)\n",
    "    train_writer.writerow(out_row)\n",
    "    counter += 1\n",
    "    if counter%10000 == 0:\n",
    "        print counter\n",
    "train_out_handle.close()"
   ]
  },
  {
   "cell_type": "code",
   "execution_count": 47,
   "metadata": {
    "collapsed": true
   },
   "outputs": [],
   "source": [
    "train_business_feature = pd.read_csv(data_root+'train_business_feature.csv')\n",
    "train_df3 = pd.merge(train_business_feature, train_label, how='inner', on='business_id')"
   ]
  },
  {
   "cell_type": "code",
   "execution_count": 132,
   "metadata": {
    "collapsed": false
   },
   "outputs": [],
   "source": [
    "train_df3['labels'].fillna('', inplace=True)\n",
    "y_train = np.array([y.split() for y in train_df3['labels']])\n",
    "y_train = [map(int, y) for y in y_train]"
   ]
  },
  {
   "cell_type": "code",
   "execution_count": null,
   "metadata": {
    "collapsed": false
   },
   "outputs": [],
   "source": [
    "from sklearn import svm, datasets\n",
    "from sklearn.cross_validation import train_test_split\n",
    "from sklearn.preprocessing import label_binarize\n",
    "from sklearn.multiclass import OneVsRestClassifier\n",
    "from sklearn.preprocessing import MultiLabelBinarizer\n",
    "\n",
    "mlb = MultiLabelBinarizer()\n",
    "y_ptrain_mlb= mlb.fit_transform(y_train) \n",
    "\n",
    "random_state = np.random.RandomState(0)\n",
    "X_ptrain, X_ptest, y_ptrain, y_ptest = \\\n",
    "    train_test_split(train_business_feature, y_ptrain_mlb, \n",
    "                 test_size=.2,random_state=random_state)\n",
    "    \n",
    "classifier = OneVsRestClassifier(svm.SVC(kernel='linear', probability=True))\n",
    "classifier.fit(X_ptrain, y_ptrain)\n",
    "\n",
    "y_ppredict = classifier.predict(X_ptest)\n"
   ]
  },
  {
   "cell_type": "code",
   "execution_count": null,
   "metadata": {
    "collapsed": false
   },
   "outputs": [],
   "source": [
    "from sklearn.metrics import f1_score\n",
    "\n",
    "print \"F1 score: \", f1_score(y_ptest, y_ppredict, average='micro') \n",
    "print \"Individual Class F1 score: \", f1_score(y_ptest, y_ppredict, average=None)"
   ]
  },
  {
   "cell_type": "code",
   "execution_count": null,
   "metadata": {
    "collapsed": true
   },
   "outputs": [],
   "source": []
  }
 ],
 "metadata": {
  "kernelspec": {
   "display_name": "Python 2",
   "language": "python",
   "name": "python2"
  },
  "language_info": {
   "codemirror_mode": {
    "name": "ipython",
    "version": 2
   },
   "file_extension": ".py",
   "mimetype": "text/x-python",
   "name": "python",
   "nbconvert_exporter": "python",
   "pygments_lexer": "ipython2",
   "version": "2.7.11"
  }
 },
 "nbformat": 4,
 "nbformat_minor": 0
}
