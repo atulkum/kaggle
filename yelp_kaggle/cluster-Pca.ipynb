{
 "cells": [
  {
   "cell_type": "code",
   "execution_count": 1,
   "metadata": {
    "collapsed": true
   },
   "outputs": [],
   "source": [
    "import numpy as np\n",
    "import pandas as pd \n",
    "import csv\n",
    "import itertools\n",
    "\n",
    "import numpy as np\n",
    "from scipy import linalg\n",
    "\n",
    "from sklearn import mixture\n",
    "from sklearn.cluster import DBSCAN\n",
    "from sklearn.decomposition import PCA\n",
    "import cPickle\n",
    "from sklearn.preprocessing import StandardScaler\n",
    "import multiprocessing\n",
    "\n",
    "cores=multiprocessing.cpu_count()-2\n",
    "data_root = '/Users/svloaner/Desktop/yelp/'"
   ]
  },
  {
   "cell_type": "code",
   "execution_count": null,
   "metadata": {
    "collapsed": true
   },
   "outputs": [],
   "source": [
    "#feature_column = ['f'+str(i) for i in range(1, 2049)]"
   ]
  },
  {
   "cell_type": "code",
   "execution_count": null,
   "metadata": {
    "collapsed": false
   },
   "outputs": [],
   "source": [
    "#\n",
    "#train_df = pd.read_csv(data_root+\"train_features.csv\", header=None)\n",
    "#train_df.columns = ['photo_id'] +  feature_column\n",
    "\n",
    "#test_df = pd.read_csv(data_root+\"test_features.csv\", header=None)\n",
    "#test_df.columns = ['photo_id'] +  feature_column\n",
    "\n",
    "#photo_ids = np.vstack((train_df['photo_id'].reshape(-1,1),test_df['photo_id'].reshape(-1,1)))\n",
    "\n",
    "#train_df.drop('photo_id', axis=1, inplace=True)\n",
    "#test_df.drop('photo_id', axis=1, inplace=True)\n",
    "#X_all = np.vstack((train_df,test_df))\n",
    "#n_train = len(train_df)"
   ]
  },
  {
   "cell_type": "code",
   "execution_count": null,
   "metadata": {
    "collapsed": false
   },
   "outputs": [],
   "source": [
    "#X_std = StandardScaler().fit_transform(X_all)\n",
    "#X_all_std = pd.DataFrame(X_std)\n",
    "#X_all_std.to_csv('X_all_std.csv', index=False)\n",
    "#del X_all_std\n",
    "\n",
    "#photo_ids\n",
    "#f = open('photo_ids.pkl', 'wb')\n",
    "#cPickle.dump(photo_ids, f, protocol=cPickle.HIGHEST_PROTOCOL)\n",
    "#f.close()\n",
    "#print n_train"
   ]
  },
  {
   "cell_type": "code",
   "execution_count": 2,
   "metadata": {
    "collapsed": false
   },
   "outputs": [],
   "source": [
    "n_train=234842\n",
    "X_std = pd.read_csv(data_root+'X_all_std.csv')\n",
    "f = open('photo_ids.pkl', 'rb')\n",
    "photo_ids = cPickle.load(f)\n",
    "f.close()"
   ]
  },
  {
   "cell_type": "code",
   "execution_count": null,
   "metadata": {
    "collapsed": true
   },
   "outputs": [],
   "source": [
    "kpca_c = KernelPCA(n_components = 100, kernel=\"cosine\")\n",
    "X_kpca_c = kpca_c.fit_transform(X_std)\n",
    "\n",
    "X_all_kcpa_c = pd.DataFrame(X_kpca_c)\n",
    "X_all_kcpa_c['photo_id'] = photo_ids\n",
    "\n",
    "X_train_kcpa_c = X_all_kcpa_c[:n_train]\n",
    "X_test_kcpa_c = X_all_kcpa_c[n_train:]\n",
    "X_train_kcpa_c.to_csv('train_feature_kpca_cosine.csv', index=False) \n",
    "X_test_kcpa_c.to_csv('test_feature_kpca_cosine.csv', index=False)\n",
    "\n",
    "del kpca_c, X_kpca_c, X_all_kcpa_c, X_train_kcpa_c, X_test_kcpa_c"
   ]
  },
  {
   "cell_type": "code",
   "execution_count": null,
   "metadata": {
    "collapsed": true
   },
   "outputs": [],
   "source": [
    "from sklearn.decomposition import KernelPCA\n",
    "\n",
    "kpca = KernelPCA(n_components = 100, kernel=\"rbf\")\n",
    "X_kpca = kpca.fit_transform(X_std)\n",
    "\n",
    "X_all_kcpa = pd.DataFrame(X_kpca)\n",
    "X_all_kcpa['photo_id'] = photo_ids\n",
    "\n",
    "X_train_kcpa = X_all_kcpa[:n_train]\n",
    "X_test_kcpa = X_all_kcpa[n_train:]\n",
    "X_train_kcpa.to_csv('train_feature_kpca_rbf.csv', index=False) \n",
    "X_test_kcpa.to_csv('test_feature_kpca_rbf.csv', index=False)\n",
    "\n",
    "del kpca, X_kpca, X_all_kcpa, X_train_kcpa, X_test_kcpa"
   ]
  },
  {
   "cell_type": "code",
   "execution_count": null,
   "metadata": {
    "collapsed": false
   },
   "outputs": [],
   "source": [
    "X = X_std.copy()\n",
    "pca_mle = PCA(n_components='mle')\n",
    "X_pca_mle = pca_mle.fit_transform(X)\n",
    "\n",
    "X_all_mle = pd.DataFrame(X_pca_mle)\n",
    "X_all_mle['photo_id'] = photo_ids\n",
    "\n",
    "X_train_mle = X_all_mle[:n_train]\n",
    "X_test_mle = X_all_mle[n_train:]\n",
    "X_train_mle.to_csv('train_feature_pca_mle.csv', index=False) \n",
    "X_test_mle.to_csv('test_feature_pca_mle.csv', index=False)\n",
    "\n",
    "del pca_mle, X_mle, X_all_mle, X_train_mle, X_test_mle"
   ]
  },
  {
   "cell_type": "code",
   "execution_count": 3,
   "metadata": {
    "collapsed": false
   },
   "outputs": [],
   "source": [
    "\n",
    "pca = PCA(n_components=256)\n",
    "X_pca = pca.fit_transform(X_std)\n",
    "\n",
    "X_all = pd.DataFrame(X_pca)\n",
    "X_all['photo_id'] = photo_ids\n",
    "\n",
    "X_train = X_all[:n_train]\n",
    "X_test = X_all[n_train:]\n",
    "X_train.to_csv('train_feature_pca256.csv', index=False) \n",
    "X_test.to_csv('test_feature_pca256.csv', index=False)\n",
    "\n",
    "del pca, X_pca, X_all, X_train, X_test"
   ]
  },
  {
   "cell_type": "code",
   "execution_count": null,
   "metadata": {
    "collapsed": true
   },
   "outputs": [],
   "source": []
  }
 ],
 "metadata": {
  "kernelspec": {
   "display_name": "Python 2",
   "language": "python",
   "name": "python2"
  },
  "language_info": {
   "codemirror_mode": {
    "name": "ipython",
    "version": 2
   },
   "file_extension": ".py",
   "mimetype": "text/x-python",
   "name": "python",
   "nbconvert_exporter": "python",
   "pygments_lexer": "ipython2",
   "version": "2.7.11"
  }
 },
 "nbformat": 4,
 "nbformat_minor": 0
}
