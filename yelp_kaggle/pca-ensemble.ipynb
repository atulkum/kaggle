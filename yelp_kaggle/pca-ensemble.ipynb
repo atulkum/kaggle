{
 "cells": [
  {
   "cell_type": "code",
   "execution_count": null,
   "metadata": {
    "collapsed": true
   },
   "outputs": [],
   "source": [
    "import numpy as np\n",
    "import pandas as pd \n",
    "import csv"
   ]
  },
  {
   "cell_type": "code",
   "execution_count": null,
   "metadata": {
    "collapsed": false
   },
   "outputs": [],
   "source": [
    "data_root = '/Users/svloaner/Desktop/yelp/'\n",
    "\n",
    "cluster = \"pca500\"\n",
    "#pca500 pca kpca_cosine pca_mle\n",
    "\n",
    "train_photo_to_biz = pd.read_csv(data_root+'train_photo_to_biz_ids.csv')\n",
    "train_df = pd.read_csv(data_root+ 'train_feature_' + cluster + '.csv')\n",
    "train_df1 = pd.merge(train_photo_to_biz, train_df, how='inner', on='photo_id')\n",
    "train_df2 = train_df1.groupby('business_id')\n"
   ]
  },
  {
   "cell_type": "code",
   "execution_count": null,
   "metadata": {
    "collapsed": false
   },
   "outputs": [],
   "source": [
    "feature_column = train_df.columns[:-1]\n",
    "\n",
    "out_colum_name = ['business_id']\n",
    "out_colum_name.extend(feature_column.values)\n",
    "\n",
    "def getOneRow(name, grouped_df, train=1):\n",
    "    out_list = [name]\n",
    "    for f in feature_column:\n",
    "        avg = np.mean(grouped_df[f])\n",
    "        out_list.append(avg)        \n",
    "    return out_list"
   ]
  },
  {
   "cell_type": "code",
   "execution_count": null,
   "metadata": {
    "collapsed": false
   },
   "outputs": [],
   "source": [
    "train_out_handle = open('train_business_feature2.csv', \"w\")\n",
    "train_writer = csv.writer(train_out_handle)\n",
    "train_writer.writerow(out_colum_name)\n",
    "counter = 0\n",
    "for name, group in train_df2:\n",
    "    out_row = getOneRow(name, group, train=1)\n",
    "    assert len(out_row) == len(out_colum_name)\n",
    "    train_writer.writerow(out_row)\n",
    "    counter += 1\n",
    "    if counter%10000 == 0:\n",
    "        print counter\n",
    "train_out_handle.close()"
   ]
  },
  {
   "cell_type": "code",
   "execution_count": null,
   "metadata": {
    "collapsed": true
   },
   "outputs": [],
   "source": [
    "train_business_feature = pd.read_csv(data_root+'train_business_feature2.csv')\n",
    "train_label = pd.read_csv(data_root+'train.csv')\n",
    "train_df3 = pd.merge(train_business_feature, train_label, how='inner', on='business_id')"
   ]
  },
  {
   "cell_type": "code",
   "execution_count": null,
   "metadata": {
    "collapsed": false
   },
   "outputs": [],
   "source": [
    "train_df3['labels'].fillna('', inplace=True)\n",
    "y_train = np.array([y.split() for y in train_df3['labels']])\n",
    "y_train = [map(int, y) for y in y_train]"
   ]
  },
  {
   "cell_type": "code",
   "execution_count": null,
   "metadata": {
    "collapsed": false
   },
   "outputs": [],
   "source": [
    "train_business_feature.drop('business_id', axis=1, inplace=True)"
   ]
  },
  {
   "cell_type": "code",
   "execution_count": null,
   "metadata": {
    "collapsed": false
   },
   "outputs": [],
   "source": [
    "from sklearn import svm, datasets\n",
    "from sklearn.cross_validation import train_test_split\n",
    "from sklearn.preprocessing import label_binarize\n",
    "from sklearn.multiclass import OneVsRestClassifier\n",
    "from sklearn.preprocessing import MultiLabelBinarizer\n",
    "import multiprocessing\n",
    "\n",
    "cores=multiprocessing.cpu_count()-2\n",
    "\n",
    "mlb = MultiLabelBinarizer()\n",
    "y_ptrain_mlb= mlb.fit_transform(y_train) \n",
    "\n",
    "random_state = np.random.RandomState(0)\n",
    "\n",
    "X_ptrain, X_ptest, y_ptrain, y_ptest = train_test_split(train_business_feature, y_ptrain_mlb, \n",
    "                 test_size=.1,random_state=random_state)\n",
    "print X_ptrain.shape, X_ptest.shape, y_ptrain.shape, y_ptest.shape"
   ]
  },
  {
   "cell_type": "code",
   "execution_count": null,
   "metadata": {
    "collapsed": true
   },
   "outputs": [],
   "source": [
    "from sklearn.cross_validation import KFold\n",
    "\n",
    "kf = KFold(len(y_ptrain_mlb), n_folds=5)\n",
    "clfs = []\n",
    "for train_idx, test_idx in kf:\n",
    "    clf_svm = svm.SVC(kernel='rbf', C= 2.0, probability=True)\n",
    "    classifier = OneVsRestClassifier(clf_svm, n_jobs=cores)\n",
    "    \n",
    "    X_ptrain = train_business_feature[train_idx]\n",
    "    X_ptest = train_business_feature[test_idx]\n",
    "    y_ptrain = y_ptrain_mlb[train_idx]\n",
    "    y_ptest = y_ptrain_mlb[test_idx]\n",
    "    classifier.fit(X_ptrain, y_ptrain)\n",
    "    \n",
    "    y_ppredict = classifier.predict(X_ptest)\n",
    "    \n",
    "    print \"F1 score: \", f1_score(y_ptest, y_ppredict, average='micro') \n",
    "    print \"Individual Class F1 score: \", f1_score(y_ptest, y_ppredict, average=None)  "
   ]
  },
  {
   "cell_type": "code",
   "execution_count": null,
   "metadata": {
    "collapsed": true
   },
   "outputs": [],
   "source": [
    "y_ppredict = classifier.predict(X_ptest)"
   ]
  },
  {
   "cell_type": "code",
   "execution_count": null,
   "metadata": {
    "collapsed": false
   },
   "outputs": [],
   "source": [
    "from sklearn.metrics import f1_score\n",
    "\n",
    "print \"F1 score: \", f1_score(y_ptest, y_ppredict, average='micro') \n",
    "print \"Individual Class F1 score: \", f1_score(y_ptest, y_ppredict, average=None)"
   ]
  },
  {
   "cell_type": "code",
   "execution_count": null,
   "metadata": {
    "collapsed": false
   },
   "outputs": [],
   "source": [
    "#########test\n",
    "test_photo_to_biz = pd.read_csv(data_root+'test_photo_to_biz.csv')\n",
    "test_df = pd.read_csv(data_root+ 'test_feature_'  + cluster + '.csv')\n",
    "test_df1 = pd.merge(test_photo_to_biz, test_df, how='inner', on='photo_id')\n",
    "test_df2 = test_df1.groupby('business_id')\n",
    "feature_column = test_df.columns[:-1]\n",
    "test_out_handle = open('test_business_feature2.csv', \"w\")\n",
    "test_writer = csv.writer(test_out_handle)\n",
    "test_writer.writerow(out_colum_name)\n",
    "counter = 0\n",
    "for name, group in test_df2:\n",
    "    out_row = getOneRow(name, group, train=0)\n",
    "    assert len(out_row) == len(out_colum_name)\n",
    "    test_writer.writerow(out_row)\n",
    "    counter += 1\n",
    "    if counter%10000 == 0:\n",
    "        print counter\n",
    "test_out_handle.close()\n",
    "\n",
    "##################"
   ]
  },
  {
   "cell_type": "code",
   "execution_count": null,
   "metadata": {
    "collapsed": false
   },
   "outputs": [],
   "source": [
    "classifier.fit(train_business_feature, y_ptrain_mlb)\n",
    "\n",
    "test_business_feature = pd.read_csv(data_root+'test_business_feature2.csv')\n",
    "business_id = test_business_feature['business_id'].reshape(-1,1)\n",
    "test_business_feature.drop('business_id', axis=1, inplace=True)\n",
    "y_predict_test = classifier.predict(test_business_feature)"
   ]
  },
  {
   "cell_type": "code",
   "execution_count": null,
   "metadata": {
    "collapsed": false
   },
   "outputs": [],
   "source": [
    "y_predict_label = mlb.inverse_transform(y_predict_test)\n",
    "\n",
    "df = pd.DataFrame(columns=['business_id','labels'])\n",
    "\n",
    "for i in range(len(y_predict_label)):\n",
    "    biz = business_id[i][0]\n",
    "    label = y_predict_label[i]\n",
    "    label = str(label)[1:-1].replace(\",\", \" \")\n",
    "    df.loc[i] = [str(biz), label]\n",
    "\n",
    "with open(data_root+\"submission3.csv\",'w') as f:\n",
    "    df.to_csv(f, index=False) "
   ]
  },
  {
   "cell_type": "code",
   "execution_count": null,
   "metadata": {
    "collapsed": true
   },
   "outputs": [],
   "source": []
  }
 ],
 "metadata": {
  "kernelspec": {
   "display_name": "Python 2",
   "language": "python",
   "name": "python2"
  },
  "language_info": {
   "codemirror_mode": {
    "name": "ipython",
    "version": 2
   },
   "file_extension": ".py",
   "mimetype": "text/x-python",
   "name": "python",
   "nbconvert_exporter": "python",
   "pygments_lexer": "ipython2",
   "version": "2.7.11"
  }
 },
 "nbformat": 4,
 "nbformat_minor": 0
}
